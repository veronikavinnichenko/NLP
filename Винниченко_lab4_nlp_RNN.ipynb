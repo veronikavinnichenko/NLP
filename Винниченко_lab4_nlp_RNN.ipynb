{
  "nbformat": 4,
  "nbformat_minor": 0,
  "metadata": {
    "colab": {
      "provenance": []
    },
    "kernelspec": {
      "name": "python3",
      "display_name": "Python 3"
    },
    "language_info": {
      "name": "python"
    },
    "widgets": {
      "application/vnd.jupyter.widget-state+json": {
        "244e893e595f4bc696ec3e2b775261d3": {
          "model_module": "@jupyter-widgets/controls",
          "model_name": "HBoxModel",
          "model_module_version": "1.5.0",
          "state": {
            "_dom_classes": [],
            "_model_module": "@jupyter-widgets/controls",
            "_model_module_version": "1.5.0",
            "_model_name": "HBoxModel",
            "_view_count": null,
            "_view_module": "@jupyter-widgets/controls",
            "_view_module_version": "1.5.0",
            "_view_name": "HBoxView",
            "box_style": "",
            "children": [
              "IPY_MODEL_96feb4df8c2146798933077123915ba2",
              "IPY_MODEL_d966f872388c4e31b333e81425e65074",
              "IPY_MODEL_6c76693f525b48629e6f7d2191b1272b"
            ],
            "layout": "IPY_MODEL_f27c27491bdb41a0b4dd4162f25f20f8"
          }
        },
        "96feb4df8c2146798933077123915ba2": {
          "model_module": "@jupyter-widgets/controls",
          "model_name": "HTMLModel",
          "model_module_version": "1.5.0",
          "state": {
            "_dom_classes": [],
            "_model_module": "@jupyter-widgets/controls",
            "_model_module_version": "1.5.0",
            "_model_name": "HTMLModel",
            "_view_count": null,
            "_view_module": "@jupyter-widgets/controls",
            "_view_module_version": "1.5.0",
            "_view_name": "HTMLView",
            "description": "",
            "description_tooltip": null,
            "layout": "IPY_MODEL_058c223dd9864218bc13858c160d2824",
            "placeholder": "​",
            "style": "IPY_MODEL_7bf6b700f7f04806ab1e89812e078a6c",
            "value": "100%"
          }
        },
        "d966f872388c4e31b333e81425e65074": {
          "model_module": "@jupyter-widgets/controls",
          "model_name": "FloatProgressModel",
          "model_module_version": "1.5.0",
          "state": {
            "_dom_classes": [],
            "_model_module": "@jupyter-widgets/controls",
            "_model_module_version": "1.5.0",
            "_model_name": "FloatProgressModel",
            "_view_count": null,
            "_view_module": "@jupyter-widgets/controls",
            "_view_module_version": "1.5.0",
            "_view_name": "ProgressView",
            "bar_style": "success",
            "description": "",
            "description_tooltip": null,
            "layout": "IPY_MODEL_c924ae02351546eaa8e94ead00748b50",
            "max": 25,
            "min": 0,
            "orientation": "horizontal",
            "style": "IPY_MODEL_4ee95113bc514c7fb6a219c5ede11b45",
            "value": 25
          }
        },
        "6c76693f525b48629e6f7d2191b1272b": {
          "model_module": "@jupyter-widgets/controls",
          "model_name": "HTMLModel",
          "model_module_version": "1.5.0",
          "state": {
            "_dom_classes": [],
            "_model_module": "@jupyter-widgets/controls",
            "_model_module_version": "1.5.0",
            "_model_name": "HTMLModel",
            "_view_count": null,
            "_view_module": "@jupyter-widgets/controls",
            "_view_module_version": "1.5.0",
            "_view_name": "HTMLView",
            "description": "",
            "description_tooltip": null,
            "layout": "IPY_MODEL_3595d7488d114cb8a46ed923015c994e",
            "placeholder": "​",
            "style": "IPY_MODEL_bded8370ff974d8289ba6951a985323b",
            "value": " 25/25 [01:06&lt;00:00,  2.54s/it]"
          }
        },
        "f27c27491bdb41a0b4dd4162f25f20f8": {
          "model_module": "@jupyter-widgets/base",
          "model_name": "LayoutModel",
          "model_module_version": "1.2.0",
          "state": {
            "_model_module": "@jupyter-widgets/base",
            "_model_module_version": "1.2.0",
            "_model_name": "LayoutModel",
            "_view_count": null,
            "_view_module": "@jupyter-widgets/base",
            "_view_module_version": "1.2.0",
            "_view_name": "LayoutView",
            "align_content": null,
            "align_items": null,
            "align_self": null,
            "border": null,
            "bottom": null,
            "display": null,
            "flex": null,
            "flex_flow": null,
            "grid_area": null,
            "grid_auto_columns": null,
            "grid_auto_flow": null,
            "grid_auto_rows": null,
            "grid_column": null,
            "grid_gap": null,
            "grid_row": null,
            "grid_template_areas": null,
            "grid_template_columns": null,
            "grid_template_rows": null,
            "height": null,
            "justify_content": null,
            "justify_items": null,
            "left": null,
            "margin": null,
            "max_height": null,
            "max_width": null,
            "min_height": null,
            "min_width": null,
            "object_fit": null,
            "object_position": null,
            "order": null,
            "overflow": null,
            "overflow_x": null,
            "overflow_y": null,
            "padding": null,
            "right": null,
            "top": null,
            "visibility": null,
            "width": null
          }
        },
        "058c223dd9864218bc13858c160d2824": {
          "model_module": "@jupyter-widgets/base",
          "model_name": "LayoutModel",
          "model_module_version": "1.2.0",
          "state": {
            "_model_module": "@jupyter-widgets/base",
            "_model_module_version": "1.2.0",
            "_model_name": "LayoutModel",
            "_view_count": null,
            "_view_module": "@jupyter-widgets/base",
            "_view_module_version": "1.2.0",
            "_view_name": "LayoutView",
            "align_content": null,
            "align_items": null,
            "align_self": null,
            "border": null,
            "bottom": null,
            "display": null,
            "flex": null,
            "flex_flow": null,
            "grid_area": null,
            "grid_auto_columns": null,
            "grid_auto_flow": null,
            "grid_auto_rows": null,
            "grid_column": null,
            "grid_gap": null,
            "grid_row": null,
            "grid_template_areas": null,
            "grid_template_columns": null,
            "grid_template_rows": null,
            "height": null,
            "justify_content": null,
            "justify_items": null,
            "left": null,
            "margin": null,
            "max_height": null,
            "max_width": null,
            "min_height": null,
            "min_width": null,
            "object_fit": null,
            "object_position": null,
            "order": null,
            "overflow": null,
            "overflow_x": null,
            "overflow_y": null,
            "padding": null,
            "right": null,
            "top": null,
            "visibility": null,
            "width": null
          }
        },
        "7bf6b700f7f04806ab1e89812e078a6c": {
          "model_module": "@jupyter-widgets/controls",
          "model_name": "DescriptionStyleModel",
          "model_module_version": "1.5.0",
          "state": {
            "_model_module": "@jupyter-widgets/controls",
            "_model_module_version": "1.5.0",
            "_model_name": "DescriptionStyleModel",
            "_view_count": null,
            "_view_module": "@jupyter-widgets/base",
            "_view_module_version": "1.2.0",
            "_view_name": "StyleView",
            "description_width": ""
          }
        },
        "c924ae02351546eaa8e94ead00748b50": {
          "model_module": "@jupyter-widgets/base",
          "model_name": "LayoutModel",
          "model_module_version": "1.2.0",
          "state": {
            "_model_module": "@jupyter-widgets/base",
            "_model_module_version": "1.2.0",
            "_model_name": "LayoutModel",
            "_view_count": null,
            "_view_module": "@jupyter-widgets/base",
            "_view_module_version": "1.2.0",
            "_view_name": "LayoutView",
            "align_content": null,
            "align_items": null,
            "align_self": null,
            "border": null,
            "bottom": null,
            "display": null,
            "flex": null,
            "flex_flow": null,
            "grid_area": null,
            "grid_auto_columns": null,
            "grid_auto_flow": null,
            "grid_auto_rows": null,
            "grid_column": null,
            "grid_gap": null,
            "grid_row": null,
            "grid_template_areas": null,
            "grid_template_columns": null,
            "grid_template_rows": null,
            "height": null,
            "justify_content": null,
            "justify_items": null,
            "left": null,
            "margin": null,
            "max_height": null,
            "max_width": null,
            "min_height": null,
            "min_width": null,
            "object_fit": null,
            "object_position": null,
            "order": null,
            "overflow": null,
            "overflow_x": null,
            "overflow_y": null,
            "padding": null,
            "right": null,
            "top": null,
            "visibility": null,
            "width": null
          }
        },
        "4ee95113bc514c7fb6a219c5ede11b45": {
          "model_module": "@jupyter-widgets/controls",
          "model_name": "ProgressStyleModel",
          "model_module_version": "1.5.0",
          "state": {
            "_model_module": "@jupyter-widgets/controls",
            "_model_module_version": "1.5.0",
            "_model_name": "ProgressStyleModel",
            "_view_count": null,
            "_view_module": "@jupyter-widgets/base",
            "_view_module_version": "1.2.0",
            "_view_name": "StyleView",
            "bar_color": null,
            "description_width": ""
          }
        },
        "3595d7488d114cb8a46ed923015c994e": {
          "model_module": "@jupyter-widgets/base",
          "model_name": "LayoutModel",
          "model_module_version": "1.2.0",
          "state": {
            "_model_module": "@jupyter-widgets/base",
            "_model_module_version": "1.2.0",
            "_model_name": "LayoutModel",
            "_view_count": null,
            "_view_module": "@jupyter-widgets/base",
            "_view_module_version": "1.2.0",
            "_view_name": "LayoutView",
            "align_content": null,
            "align_items": null,
            "align_self": null,
            "border": null,
            "bottom": null,
            "display": null,
            "flex": null,
            "flex_flow": null,
            "grid_area": null,
            "grid_auto_columns": null,
            "grid_auto_flow": null,
            "grid_auto_rows": null,
            "grid_column": null,
            "grid_gap": null,
            "grid_row": null,
            "grid_template_areas": null,
            "grid_template_columns": null,
            "grid_template_rows": null,
            "height": null,
            "justify_content": null,
            "justify_items": null,
            "left": null,
            "margin": null,
            "max_height": null,
            "max_width": null,
            "min_height": null,
            "min_width": null,
            "object_fit": null,
            "object_position": null,
            "order": null,
            "overflow": null,
            "overflow_x": null,
            "overflow_y": null,
            "padding": null,
            "right": null,
            "top": null,
            "visibility": null,
            "width": null
          }
        },
        "bded8370ff974d8289ba6951a985323b": {
          "model_module": "@jupyter-widgets/controls",
          "model_name": "DescriptionStyleModel",
          "model_module_version": "1.5.0",
          "state": {
            "_model_module": "@jupyter-widgets/controls",
            "_model_module_version": "1.5.0",
            "_model_name": "DescriptionStyleModel",
            "_view_count": null,
            "_view_module": "@jupyter-widgets/base",
            "_view_module_version": "1.2.0",
            "_view_name": "StyleView",
            "description_width": ""
          }
        },
        "1c6cc0a2ea8d46dbace09c44df750517": {
          "model_module": "@jupyter-widgets/controls",
          "model_name": "HBoxModel",
          "model_module_version": "1.5.0",
          "state": {
            "_dom_classes": [],
            "_model_module": "@jupyter-widgets/controls",
            "_model_module_version": "1.5.0",
            "_model_name": "HBoxModel",
            "_view_count": null,
            "_view_module": "@jupyter-widgets/controls",
            "_view_module_version": "1.5.0",
            "_view_name": "HBoxView",
            "box_style": "",
            "children": [
              "IPY_MODEL_f368adfd8ba84a749a8fafa1e202bd07",
              "IPY_MODEL_c0b63e51af8b4300b741c2197d8f018c",
              "IPY_MODEL_561190b22788475e9ccf62c6f5205c3d"
            ],
            "layout": "IPY_MODEL_94f43c0bc15f4188a95aa7744aa295e2"
          }
        },
        "f368adfd8ba84a749a8fafa1e202bd07": {
          "model_module": "@jupyter-widgets/controls",
          "model_name": "HTMLModel",
          "model_module_version": "1.5.0",
          "state": {
            "_dom_classes": [],
            "_model_module": "@jupyter-widgets/controls",
            "_model_module_version": "1.5.0",
            "_model_name": "HTMLModel",
            "_view_count": null,
            "_view_module": "@jupyter-widgets/controls",
            "_view_module_version": "1.5.0",
            "_view_name": "HTMLView",
            "description": "",
            "description_tooltip": null,
            "layout": "IPY_MODEL_153da45c706c4bfca6a7048e3bbee580",
            "placeholder": "​",
            "style": "IPY_MODEL_e34e12f881aa472bb3286352b3f2a723",
            "value": "100%"
          }
        },
        "c0b63e51af8b4300b741c2197d8f018c": {
          "model_module": "@jupyter-widgets/controls",
          "model_name": "FloatProgressModel",
          "model_module_version": "1.5.0",
          "state": {
            "_dom_classes": [],
            "_model_module": "@jupyter-widgets/controls",
            "_model_module_version": "1.5.0",
            "_model_name": "FloatProgressModel",
            "_view_count": null,
            "_view_module": "@jupyter-widgets/controls",
            "_view_module_version": "1.5.0",
            "_view_name": "ProgressView",
            "bar_style": "success",
            "description": "",
            "description_tooltip": null,
            "layout": "IPY_MODEL_97dd9d7f05444d5281cd2c2d1c7b894b",
            "max": 25,
            "min": 0,
            "orientation": "horizontal",
            "style": "IPY_MODEL_4a05378c46fb4d9d8b747d47d779b1e2",
            "value": 25
          }
        },
        "561190b22788475e9ccf62c6f5205c3d": {
          "model_module": "@jupyter-widgets/controls",
          "model_name": "HTMLModel",
          "model_module_version": "1.5.0",
          "state": {
            "_dom_classes": [],
            "_model_module": "@jupyter-widgets/controls",
            "_model_module_version": "1.5.0",
            "_model_name": "HTMLModel",
            "_view_count": null,
            "_view_module": "@jupyter-widgets/controls",
            "_view_module_version": "1.5.0",
            "_view_name": "HTMLView",
            "description": "",
            "description_tooltip": null,
            "layout": "IPY_MODEL_296fa224e76547c48679735c1eae1f81",
            "placeholder": "​",
            "style": "IPY_MODEL_bd097dd3693942cdace983fc0e865b0a",
            "value": " 25/25 [01:07&lt;00:00,  2.79s/it]"
          }
        },
        "94f43c0bc15f4188a95aa7744aa295e2": {
          "model_module": "@jupyter-widgets/base",
          "model_name": "LayoutModel",
          "model_module_version": "1.2.0",
          "state": {
            "_model_module": "@jupyter-widgets/base",
            "_model_module_version": "1.2.0",
            "_model_name": "LayoutModel",
            "_view_count": null,
            "_view_module": "@jupyter-widgets/base",
            "_view_module_version": "1.2.0",
            "_view_name": "LayoutView",
            "align_content": null,
            "align_items": null,
            "align_self": null,
            "border": null,
            "bottom": null,
            "display": null,
            "flex": null,
            "flex_flow": null,
            "grid_area": null,
            "grid_auto_columns": null,
            "grid_auto_flow": null,
            "grid_auto_rows": null,
            "grid_column": null,
            "grid_gap": null,
            "grid_row": null,
            "grid_template_areas": null,
            "grid_template_columns": null,
            "grid_template_rows": null,
            "height": null,
            "justify_content": null,
            "justify_items": null,
            "left": null,
            "margin": null,
            "max_height": null,
            "max_width": null,
            "min_height": null,
            "min_width": null,
            "object_fit": null,
            "object_position": null,
            "order": null,
            "overflow": null,
            "overflow_x": null,
            "overflow_y": null,
            "padding": null,
            "right": null,
            "top": null,
            "visibility": null,
            "width": null
          }
        },
        "153da45c706c4bfca6a7048e3bbee580": {
          "model_module": "@jupyter-widgets/base",
          "model_name": "LayoutModel",
          "model_module_version": "1.2.0",
          "state": {
            "_model_module": "@jupyter-widgets/base",
            "_model_module_version": "1.2.0",
            "_model_name": "LayoutModel",
            "_view_count": null,
            "_view_module": "@jupyter-widgets/base",
            "_view_module_version": "1.2.0",
            "_view_name": "LayoutView",
            "align_content": null,
            "align_items": null,
            "align_self": null,
            "border": null,
            "bottom": null,
            "display": null,
            "flex": null,
            "flex_flow": null,
            "grid_area": null,
            "grid_auto_columns": null,
            "grid_auto_flow": null,
            "grid_auto_rows": null,
            "grid_column": null,
            "grid_gap": null,
            "grid_row": null,
            "grid_template_areas": null,
            "grid_template_columns": null,
            "grid_template_rows": null,
            "height": null,
            "justify_content": null,
            "justify_items": null,
            "left": null,
            "margin": null,
            "max_height": null,
            "max_width": null,
            "min_height": null,
            "min_width": null,
            "object_fit": null,
            "object_position": null,
            "order": null,
            "overflow": null,
            "overflow_x": null,
            "overflow_y": null,
            "padding": null,
            "right": null,
            "top": null,
            "visibility": null,
            "width": null
          }
        },
        "e34e12f881aa472bb3286352b3f2a723": {
          "model_module": "@jupyter-widgets/controls",
          "model_name": "DescriptionStyleModel",
          "model_module_version": "1.5.0",
          "state": {
            "_model_module": "@jupyter-widgets/controls",
            "_model_module_version": "1.5.0",
            "_model_name": "DescriptionStyleModel",
            "_view_count": null,
            "_view_module": "@jupyter-widgets/base",
            "_view_module_version": "1.2.0",
            "_view_name": "StyleView",
            "description_width": ""
          }
        },
        "97dd9d7f05444d5281cd2c2d1c7b894b": {
          "model_module": "@jupyter-widgets/base",
          "model_name": "LayoutModel",
          "model_module_version": "1.2.0",
          "state": {
            "_model_module": "@jupyter-widgets/base",
            "_model_module_version": "1.2.0",
            "_model_name": "LayoutModel",
            "_view_count": null,
            "_view_module": "@jupyter-widgets/base",
            "_view_module_version": "1.2.0",
            "_view_name": "LayoutView",
            "align_content": null,
            "align_items": null,
            "align_self": null,
            "border": null,
            "bottom": null,
            "display": null,
            "flex": null,
            "flex_flow": null,
            "grid_area": null,
            "grid_auto_columns": null,
            "grid_auto_flow": null,
            "grid_auto_rows": null,
            "grid_column": null,
            "grid_gap": null,
            "grid_row": null,
            "grid_template_areas": null,
            "grid_template_columns": null,
            "grid_template_rows": null,
            "height": null,
            "justify_content": null,
            "justify_items": null,
            "left": null,
            "margin": null,
            "max_height": null,
            "max_width": null,
            "min_height": null,
            "min_width": null,
            "object_fit": null,
            "object_position": null,
            "order": null,
            "overflow": null,
            "overflow_x": null,
            "overflow_y": null,
            "padding": null,
            "right": null,
            "top": null,
            "visibility": null,
            "width": null
          }
        },
        "4a05378c46fb4d9d8b747d47d779b1e2": {
          "model_module": "@jupyter-widgets/controls",
          "model_name": "ProgressStyleModel",
          "model_module_version": "1.5.0",
          "state": {
            "_model_module": "@jupyter-widgets/controls",
            "_model_module_version": "1.5.0",
            "_model_name": "ProgressStyleModel",
            "_view_count": null,
            "_view_module": "@jupyter-widgets/base",
            "_view_module_version": "1.2.0",
            "_view_name": "StyleView",
            "bar_color": null,
            "description_width": ""
          }
        },
        "296fa224e76547c48679735c1eae1f81": {
          "model_module": "@jupyter-widgets/base",
          "model_name": "LayoutModel",
          "model_module_version": "1.2.0",
          "state": {
            "_model_module": "@jupyter-widgets/base",
            "_model_module_version": "1.2.0",
            "_model_name": "LayoutModel",
            "_view_count": null,
            "_view_module": "@jupyter-widgets/base",
            "_view_module_version": "1.2.0",
            "_view_name": "LayoutView",
            "align_content": null,
            "align_items": null,
            "align_self": null,
            "border": null,
            "bottom": null,
            "display": null,
            "flex": null,
            "flex_flow": null,
            "grid_area": null,
            "grid_auto_columns": null,
            "grid_auto_flow": null,
            "grid_auto_rows": null,
            "grid_column": null,
            "grid_gap": null,
            "grid_row": null,
            "grid_template_areas": null,
            "grid_template_columns": null,
            "grid_template_rows": null,
            "height": null,
            "justify_content": null,
            "justify_items": null,
            "left": null,
            "margin": null,
            "max_height": null,
            "max_width": null,
            "min_height": null,
            "min_width": null,
            "object_fit": null,
            "object_position": null,
            "order": null,
            "overflow": null,
            "overflow_x": null,
            "overflow_y": null,
            "padding": null,
            "right": null,
            "top": null,
            "visibility": null,
            "width": null
          }
        },
        "bd097dd3693942cdace983fc0e865b0a": {
          "model_module": "@jupyter-widgets/controls",
          "model_name": "DescriptionStyleModel",
          "model_module_version": "1.5.0",
          "state": {
            "_model_module": "@jupyter-widgets/controls",
            "_model_module_version": "1.5.0",
            "_model_name": "DescriptionStyleModel",
            "_view_count": null,
            "_view_module": "@jupyter-widgets/base",
            "_view_module_version": "1.2.0",
            "_view_name": "StyleView",
            "description_width": ""
          }
        },
        "8462486edf854aa584c2eb6781f09abf": {
          "model_module": "@jupyter-widgets/controls",
          "model_name": "HBoxModel",
          "model_module_version": "1.5.0",
          "state": {
            "_dom_classes": [],
            "_model_module": "@jupyter-widgets/controls",
            "_model_module_version": "1.5.0",
            "_model_name": "HBoxModel",
            "_view_count": null,
            "_view_module": "@jupyter-widgets/controls",
            "_view_module_version": "1.5.0",
            "_view_name": "HBoxView",
            "box_style": "",
            "children": [
              "IPY_MODEL_0cda6a0fdbf142bf8a1198aae8e97158",
              "IPY_MODEL_f5584510061040c2a93be5d6fbf16f8b",
              "IPY_MODEL_98a66876b89d4a3fb4bb0074036a34d2"
            ],
            "layout": "IPY_MODEL_a52a159a62734a19b5c954f5e12ef59c"
          }
        },
        "0cda6a0fdbf142bf8a1198aae8e97158": {
          "model_module": "@jupyter-widgets/controls",
          "model_name": "HTMLModel",
          "model_module_version": "1.5.0",
          "state": {
            "_dom_classes": [],
            "_model_module": "@jupyter-widgets/controls",
            "_model_module_version": "1.5.0",
            "_model_name": "HTMLModel",
            "_view_count": null,
            "_view_module": "@jupyter-widgets/controls",
            "_view_module_version": "1.5.0",
            "_view_name": "HTMLView",
            "description": "",
            "description_tooltip": null,
            "layout": "IPY_MODEL_14d2c2570dc047bdab6b95139fed3025",
            "placeholder": "​",
            "style": "IPY_MODEL_e65616fda7614b94aa0e30cab6036d87",
            "value": "100%"
          }
        },
        "f5584510061040c2a93be5d6fbf16f8b": {
          "model_module": "@jupyter-widgets/controls",
          "model_name": "FloatProgressModel",
          "model_module_version": "1.5.0",
          "state": {
            "_dom_classes": [],
            "_model_module": "@jupyter-widgets/controls",
            "_model_module_version": "1.5.0",
            "_model_name": "FloatProgressModel",
            "_view_count": null,
            "_view_module": "@jupyter-widgets/controls",
            "_view_module_version": "1.5.0",
            "_view_name": "ProgressView",
            "bar_style": "success",
            "description": "",
            "description_tooltip": null,
            "layout": "IPY_MODEL_79deae28bcd74f48a760fcfe3124b74b",
            "max": 30,
            "min": 0,
            "orientation": "horizontal",
            "style": "IPY_MODEL_3936f90fdc434469bc83280e9b781462",
            "value": 30
          }
        },
        "98a66876b89d4a3fb4bb0074036a34d2": {
          "model_module": "@jupyter-widgets/controls",
          "model_name": "HTMLModel",
          "model_module_version": "1.5.0",
          "state": {
            "_dom_classes": [],
            "_model_module": "@jupyter-widgets/controls",
            "_model_module_version": "1.5.0",
            "_model_name": "HTMLModel",
            "_view_count": null,
            "_view_module": "@jupyter-widgets/controls",
            "_view_module_version": "1.5.0",
            "_view_name": "HTMLView",
            "description": "",
            "description_tooltip": null,
            "layout": "IPY_MODEL_21f1431da375483d9328e8da596b4f4a",
            "placeholder": "​",
            "style": "IPY_MODEL_974a807493a24f4cb39fefb85e5baa0a",
            "value": " 30/30 [02:14&lt;00:00,  4.42s/it]"
          }
        },
        "a52a159a62734a19b5c954f5e12ef59c": {
          "model_module": "@jupyter-widgets/base",
          "model_name": "LayoutModel",
          "model_module_version": "1.2.0",
          "state": {
            "_model_module": "@jupyter-widgets/base",
            "_model_module_version": "1.2.0",
            "_model_name": "LayoutModel",
            "_view_count": null,
            "_view_module": "@jupyter-widgets/base",
            "_view_module_version": "1.2.0",
            "_view_name": "LayoutView",
            "align_content": null,
            "align_items": null,
            "align_self": null,
            "border": null,
            "bottom": null,
            "display": null,
            "flex": null,
            "flex_flow": null,
            "grid_area": null,
            "grid_auto_columns": null,
            "grid_auto_flow": null,
            "grid_auto_rows": null,
            "grid_column": null,
            "grid_gap": null,
            "grid_row": null,
            "grid_template_areas": null,
            "grid_template_columns": null,
            "grid_template_rows": null,
            "height": null,
            "justify_content": null,
            "justify_items": null,
            "left": null,
            "margin": null,
            "max_height": null,
            "max_width": null,
            "min_height": null,
            "min_width": null,
            "object_fit": null,
            "object_position": null,
            "order": null,
            "overflow": null,
            "overflow_x": null,
            "overflow_y": null,
            "padding": null,
            "right": null,
            "top": null,
            "visibility": null,
            "width": null
          }
        },
        "14d2c2570dc047bdab6b95139fed3025": {
          "model_module": "@jupyter-widgets/base",
          "model_name": "LayoutModel",
          "model_module_version": "1.2.0",
          "state": {
            "_model_module": "@jupyter-widgets/base",
            "_model_module_version": "1.2.0",
            "_model_name": "LayoutModel",
            "_view_count": null,
            "_view_module": "@jupyter-widgets/base",
            "_view_module_version": "1.2.0",
            "_view_name": "LayoutView",
            "align_content": null,
            "align_items": null,
            "align_self": null,
            "border": null,
            "bottom": null,
            "display": null,
            "flex": null,
            "flex_flow": null,
            "grid_area": null,
            "grid_auto_columns": null,
            "grid_auto_flow": null,
            "grid_auto_rows": null,
            "grid_column": null,
            "grid_gap": null,
            "grid_row": null,
            "grid_template_areas": null,
            "grid_template_columns": null,
            "grid_template_rows": null,
            "height": null,
            "justify_content": null,
            "justify_items": null,
            "left": null,
            "margin": null,
            "max_height": null,
            "max_width": null,
            "min_height": null,
            "min_width": null,
            "object_fit": null,
            "object_position": null,
            "order": null,
            "overflow": null,
            "overflow_x": null,
            "overflow_y": null,
            "padding": null,
            "right": null,
            "top": null,
            "visibility": null,
            "width": null
          }
        },
        "e65616fda7614b94aa0e30cab6036d87": {
          "model_module": "@jupyter-widgets/controls",
          "model_name": "DescriptionStyleModel",
          "model_module_version": "1.5.0",
          "state": {
            "_model_module": "@jupyter-widgets/controls",
            "_model_module_version": "1.5.0",
            "_model_name": "DescriptionStyleModel",
            "_view_count": null,
            "_view_module": "@jupyter-widgets/base",
            "_view_module_version": "1.2.0",
            "_view_name": "StyleView",
            "description_width": ""
          }
        },
        "79deae28bcd74f48a760fcfe3124b74b": {
          "model_module": "@jupyter-widgets/base",
          "model_name": "LayoutModel",
          "model_module_version": "1.2.0",
          "state": {
            "_model_module": "@jupyter-widgets/base",
            "_model_module_version": "1.2.0",
            "_model_name": "LayoutModel",
            "_view_count": null,
            "_view_module": "@jupyter-widgets/base",
            "_view_module_version": "1.2.0",
            "_view_name": "LayoutView",
            "align_content": null,
            "align_items": null,
            "align_self": null,
            "border": null,
            "bottom": null,
            "display": null,
            "flex": null,
            "flex_flow": null,
            "grid_area": null,
            "grid_auto_columns": null,
            "grid_auto_flow": null,
            "grid_auto_rows": null,
            "grid_column": null,
            "grid_gap": null,
            "grid_row": null,
            "grid_template_areas": null,
            "grid_template_columns": null,
            "grid_template_rows": null,
            "height": null,
            "justify_content": null,
            "justify_items": null,
            "left": null,
            "margin": null,
            "max_height": null,
            "max_width": null,
            "min_height": null,
            "min_width": null,
            "object_fit": null,
            "object_position": null,
            "order": null,
            "overflow": null,
            "overflow_x": null,
            "overflow_y": null,
            "padding": null,
            "right": null,
            "top": null,
            "visibility": null,
            "width": null
          }
        },
        "3936f90fdc434469bc83280e9b781462": {
          "model_module": "@jupyter-widgets/controls",
          "model_name": "ProgressStyleModel",
          "model_module_version": "1.5.0",
          "state": {
            "_model_module": "@jupyter-widgets/controls",
            "_model_module_version": "1.5.0",
            "_model_name": "ProgressStyleModel",
            "_view_count": null,
            "_view_module": "@jupyter-widgets/base",
            "_view_module_version": "1.2.0",
            "_view_name": "StyleView",
            "bar_color": null,
            "description_width": ""
          }
        },
        "21f1431da375483d9328e8da596b4f4a": {
          "model_module": "@jupyter-widgets/base",
          "model_name": "LayoutModel",
          "model_module_version": "1.2.0",
          "state": {
            "_model_module": "@jupyter-widgets/base",
            "_model_module_version": "1.2.0",
            "_model_name": "LayoutModel",
            "_view_count": null,
            "_view_module": "@jupyter-widgets/base",
            "_view_module_version": "1.2.0",
            "_view_name": "LayoutView",
            "align_content": null,
            "align_items": null,
            "align_self": null,
            "border": null,
            "bottom": null,
            "display": null,
            "flex": null,
            "flex_flow": null,
            "grid_area": null,
            "grid_auto_columns": null,
            "grid_auto_flow": null,
            "grid_auto_rows": null,
            "grid_column": null,
            "grid_gap": null,
            "grid_row": null,
            "grid_template_areas": null,
            "grid_template_columns": null,
            "grid_template_rows": null,
            "height": null,
            "justify_content": null,
            "justify_items": null,
            "left": null,
            "margin": null,
            "max_height": null,
            "max_width": null,
            "min_height": null,
            "min_width": null,
            "object_fit": null,
            "object_position": null,
            "order": null,
            "overflow": null,
            "overflow_x": null,
            "overflow_y": null,
            "padding": null,
            "right": null,
            "top": null,
            "visibility": null,
            "width": null
          }
        },
        "974a807493a24f4cb39fefb85e5baa0a": {
          "model_module": "@jupyter-widgets/controls",
          "model_name": "DescriptionStyleModel",
          "model_module_version": "1.5.0",
          "state": {
            "_model_module": "@jupyter-widgets/controls",
            "_model_module_version": "1.5.0",
            "_model_name": "DescriptionStyleModel",
            "_view_count": null,
            "_view_module": "@jupyter-widgets/base",
            "_view_module_version": "1.2.0",
            "_view_name": "StyleView",
            "description_width": ""
          }
        },
        "d10976f950d44c07a5852ed16080a88f": {
          "model_module": "@jupyter-widgets/controls",
          "model_name": "HBoxModel",
          "model_module_version": "1.5.0",
          "state": {
            "_dom_classes": [],
            "_model_module": "@jupyter-widgets/controls",
            "_model_module_version": "1.5.0",
            "_model_name": "HBoxModel",
            "_view_count": null,
            "_view_module": "@jupyter-widgets/controls",
            "_view_module_version": "1.5.0",
            "_view_name": "HBoxView",
            "box_style": "",
            "children": [
              "IPY_MODEL_0869f980337b4e40bd2b977c766c658b",
              "IPY_MODEL_4b3a34069f3948968ddbb50a0bdc258e",
              "IPY_MODEL_16ca9c38eb3548b3a0a82d3d12a28634"
            ],
            "layout": "IPY_MODEL_d69372a4e00e4a2692a9ed7f85c01ff6"
          }
        },
        "0869f980337b4e40bd2b977c766c658b": {
          "model_module": "@jupyter-widgets/controls",
          "model_name": "HTMLModel",
          "model_module_version": "1.5.0",
          "state": {
            "_dom_classes": [],
            "_model_module": "@jupyter-widgets/controls",
            "_model_module_version": "1.5.0",
            "_model_name": "HTMLModel",
            "_view_count": null,
            "_view_module": "@jupyter-widgets/controls",
            "_view_module_version": "1.5.0",
            "_view_name": "HTMLView",
            "description": "",
            "description_tooltip": null,
            "layout": "IPY_MODEL_f28610c4f3f743f8a12dab559df3b180",
            "placeholder": "​",
            "style": "IPY_MODEL_c6927d3f637f4714aae88b2b7af94e66",
            "value": "100%"
          }
        },
        "4b3a34069f3948968ddbb50a0bdc258e": {
          "model_module": "@jupyter-widgets/controls",
          "model_name": "FloatProgressModel",
          "model_module_version": "1.5.0",
          "state": {
            "_dom_classes": [],
            "_model_module": "@jupyter-widgets/controls",
            "_model_module_version": "1.5.0",
            "_model_name": "FloatProgressModel",
            "_view_count": null,
            "_view_module": "@jupyter-widgets/controls",
            "_view_module_version": "1.5.0",
            "_view_name": "ProgressView",
            "bar_style": "success",
            "description": "",
            "description_tooltip": null,
            "layout": "IPY_MODEL_ccbc5d747be949b585dedbcaeae5d369",
            "max": 25,
            "min": 0,
            "orientation": "horizontal",
            "style": "IPY_MODEL_a655440f75b74496a91c4751a060dd87",
            "value": 25
          }
        },
        "16ca9c38eb3548b3a0a82d3d12a28634": {
          "model_module": "@jupyter-widgets/controls",
          "model_name": "HTMLModel",
          "model_module_version": "1.5.0",
          "state": {
            "_dom_classes": [],
            "_model_module": "@jupyter-widgets/controls",
            "_model_module_version": "1.5.0",
            "_model_name": "HTMLModel",
            "_view_count": null,
            "_view_module": "@jupyter-widgets/controls",
            "_view_module_version": "1.5.0",
            "_view_name": "HTMLView",
            "description": "",
            "description_tooltip": null,
            "layout": "IPY_MODEL_a1c389deaf3a4f85bda90c4c6023b04a",
            "placeholder": "​",
            "style": "IPY_MODEL_f4e7d94e2e304c7f944c677ac85940f4",
            "value": " 25/25 [01:06&lt;00:00,  2.72s/it]"
          }
        },
        "d69372a4e00e4a2692a9ed7f85c01ff6": {
          "model_module": "@jupyter-widgets/base",
          "model_name": "LayoutModel",
          "model_module_version": "1.2.0",
          "state": {
            "_model_module": "@jupyter-widgets/base",
            "_model_module_version": "1.2.0",
            "_model_name": "LayoutModel",
            "_view_count": null,
            "_view_module": "@jupyter-widgets/base",
            "_view_module_version": "1.2.0",
            "_view_name": "LayoutView",
            "align_content": null,
            "align_items": null,
            "align_self": null,
            "border": null,
            "bottom": null,
            "display": null,
            "flex": null,
            "flex_flow": null,
            "grid_area": null,
            "grid_auto_columns": null,
            "grid_auto_flow": null,
            "grid_auto_rows": null,
            "grid_column": null,
            "grid_gap": null,
            "grid_row": null,
            "grid_template_areas": null,
            "grid_template_columns": null,
            "grid_template_rows": null,
            "height": null,
            "justify_content": null,
            "justify_items": null,
            "left": null,
            "margin": null,
            "max_height": null,
            "max_width": null,
            "min_height": null,
            "min_width": null,
            "object_fit": null,
            "object_position": null,
            "order": null,
            "overflow": null,
            "overflow_x": null,
            "overflow_y": null,
            "padding": null,
            "right": null,
            "top": null,
            "visibility": null,
            "width": null
          }
        },
        "f28610c4f3f743f8a12dab559df3b180": {
          "model_module": "@jupyter-widgets/base",
          "model_name": "LayoutModel",
          "model_module_version": "1.2.0",
          "state": {
            "_model_module": "@jupyter-widgets/base",
            "_model_module_version": "1.2.0",
            "_model_name": "LayoutModel",
            "_view_count": null,
            "_view_module": "@jupyter-widgets/base",
            "_view_module_version": "1.2.0",
            "_view_name": "LayoutView",
            "align_content": null,
            "align_items": null,
            "align_self": null,
            "border": null,
            "bottom": null,
            "display": null,
            "flex": null,
            "flex_flow": null,
            "grid_area": null,
            "grid_auto_columns": null,
            "grid_auto_flow": null,
            "grid_auto_rows": null,
            "grid_column": null,
            "grid_gap": null,
            "grid_row": null,
            "grid_template_areas": null,
            "grid_template_columns": null,
            "grid_template_rows": null,
            "height": null,
            "justify_content": null,
            "justify_items": null,
            "left": null,
            "margin": null,
            "max_height": null,
            "max_width": null,
            "min_height": null,
            "min_width": null,
            "object_fit": null,
            "object_position": null,
            "order": null,
            "overflow": null,
            "overflow_x": null,
            "overflow_y": null,
            "padding": null,
            "right": null,
            "top": null,
            "visibility": null,
            "width": null
          }
        },
        "c6927d3f637f4714aae88b2b7af94e66": {
          "model_module": "@jupyter-widgets/controls",
          "model_name": "DescriptionStyleModel",
          "model_module_version": "1.5.0",
          "state": {
            "_model_module": "@jupyter-widgets/controls",
            "_model_module_version": "1.5.0",
            "_model_name": "DescriptionStyleModel",
            "_view_count": null,
            "_view_module": "@jupyter-widgets/base",
            "_view_module_version": "1.2.0",
            "_view_name": "StyleView",
            "description_width": ""
          }
        },
        "ccbc5d747be949b585dedbcaeae5d369": {
          "model_module": "@jupyter-widgets/base",
          "model_name": "LayoutModel",
          "model_module_version": "1.2.0",
          "state": {
            "_model_module": "@jupyter-widgets/base",
            "_model_module_version": "1.2.0",
            "_model_name": "LayoutModel",
            "_view_count": null,
            "_view_module": "@jupyter-widgets/base",
            "_view_module_version": "1.2.0",
            "_view_name": "LayoutView",
            "align_content": null,
            "align_items": null,
            "align_self": null,
            "border": null,
            "bottom": null,
            "display": null,
            "flex": null,
            "flex_flow": null,
            "grid_area": null,
            "grid_auto_columns": null,
            "grid_auto_flow": null,
            "grid_auto_rows": null,
            "grid_column": null,
            "grid_gap": null,
            "grid_row": null,
            "grid_template_areas": null,
            "grid_template_columns": null,
            "grid_template_rows": null,
            "height": null,
            "justify_content": null,
            "justify_items": null,
            "left": null,
            "margin": null,
            "max_height": null,
            "max_width": null,
            "min_height": null,
            "min_width": null,
            "object_fit": null,
            "object_position": null,
            "order": null,
            "overflow": null,
            "overflow_x": null,
            "overflow_y": null,
            "padding": null,
            "right": null,
            "top": null,
            "visibility": null,
            "width": null
          }
        },
        "a655440f75b74496a91c4751a060dd87": {
          "model_module": "@jupyter-widgets/controls",
          "model_name": "ProgressStyleModel",
          "model_module_version": "1.5.0",
          "state": {
            "_model_module": "@jupyter-widgets/controls",
            "_model_module_version": "1.5.0",
            "_model_name": "ProgressStyleModel",
            "_view_count": null,
            "_view_module": "@jupyter-widgets/base",
            "_view_module_version": "1.2.0",
            "_view_name": "StyleView",
            "bar_color": null,
            "description_width": ""
          }
        },
        "a1c389deaf3a4f85bda90c4c6023b04a": {
          "model_module": "@jupyter-widgets/base",
          "model_name": "LayoutModel",
          "model_module_version": "1.2.0",
          "state": {
            "_model_module": "@jupyter-widgets/base",
            "_model_module_version": "1.2.0",
            "_model_name": "LayoutModel",
            "_view_count": null,
            "_view_module": "@jupyter-widgets/base",
            "_view_module_version": "1.2.0",
            "_view_name": "LayoutView",
            "align_content": null,
            "align_items": null,
            "align_self": null,
            "border": null,
            "bottom": null,
            "display": null,
            "flex": null,
            "flex_flow": null,
            "grid_area": null,
            "grid_auto_columns": null,
            "grid_auto_flow": null,
            "grid_auto_rows": null,
            "grid_column": null,
            "grid_gap": null,
            "grid_row": null,
            "grid_template_areas": null,
            "grid_template_columns": null,
            "grid_template_rows": null,
            "height": null,
            "justify_content": null,
            "justify_items": null,
            "left": null,
            "margin": null,
            "max_height": null,
            "max_width": null,
            "min_height": null,
            "min_width": null,
            "object_fit": null,
            "object_position": null,
            "order": null,
            "overflow": null,
            "overflow_x": null,
            "overflow_y": null,
            "padding": null,
            "right": null,
            "top": null,
            "visibility": null,
            "width": null
          }
        },
        "f4e7d94e2e304c7f944c677ac85940f4": {
          "model_module": "@jupyter-widgets/controls",
          "model_name": "DescriptionStyleModel",
          "model_module_version": "1.5.0",
          "state": {
            "_model_module": "@jupyter-widgets/controls",
            "_model_module_version": "1.5.0",
            "_model_name": "DescriptionStyleModel",
            "_view_count": null,
            "_view_module": "@jupyter-widgets/base",
            "_view_module_version": "1.2.0",
            "_view_name": "StyleView",
            "description_width": ""
          }
        }
      }
    }
  },
  "cells": [
    {
      "cell_type": "markdown",
      "source": [
        "## Лабораторная № 4. Обучение рекурентной нейронной сети"
      ],
      "metadata": {
        "id": "SLYL7_rL7br-"
      }
    },
    {
      "cell_type": "markdown",
      "source": [
        "Скачайте датасет с фамилиями разных национальностей, используемый на практическом\n",
        "занятии. Необходимо обучить несколько рекурентных нейронных сетей для\n",
        "классификации фамилий по национальностям. Нейронные сети должны отличаться\n",
        "гиперпараметрами."
      ],
      "metadata": {
        "id": "euPQ7o5j7pzJ"
      }
    },
    {
      "cell_type": "code",
      "source": [
        "from argparse import Namespace\n",
        "import os\n",
        "import json\n",
        "\n",
        "import numpy as np\n",
        "import pandas as pd\n",
        "import torch\n",
        "import torch.nn as nn\n",
        "import torch.nn.functional as F\n",
        "import torch.optim as optim\n",
        "from torch.utils.data import Dataset, DataLoader\n",
        "from tqdm.notebook import tqdm\n",
        "\n",
        "import matplotlib.pyplot as plt\n",
        "import seaborn as sns\n",
        "sns.set_style(\"whitegrid\")"
      ],
      "metadata": {
        "id": "aiVDgE4FI5Ox"
      },
      "execution_count": null,
      "outputs": []
    },
    {
      "cell_type": "code",
      "source": [
        "# to solve error \"The kernel for *.ipynb appears to have died. It will restart automatically.\"\n",
        "# https://www.kaggle.com/product-feedback/41221\n",
        "import os\n",
        "os.environ['KMP_DUPLICATE_LIB_OK']='True'"
      ],
      "metadata": {
        "id": "8K0xEbraI9B5"
      },
      "execution_count": null,
      "outputs": []
    },
    {
      "cell_type": "code",
      "execution_count": null,
      "metadata": {
        "id": "hdhnEIi-WSPP",
        "colab": {
          "base_uri": "https://localhost:8080/",
          "height": 363
        },
        "outputId": "fa497490-b155-48e8-81e1-49ae4b0c17a0"
      },
      "outputs": [
        {
          "output_type": "execute_result",
          "data": {
            "text/plain": [
              "    surname nationality  split\n",
              "0     Totah      Arabic  train\n",
              "1    Abboud      Arabic  train\n",
              "2  Fakhoury      Arabic  train\n",
              "3     Srour      Arabic  train\n",
              "4    Sayegh      Arabic  train\n",
              "5      Cham      Arabic  train\n",
              "6      Haik      Arabic  train\n",
              "7    Kattan      Arabic  train\n",
              "8    Khouri      Arabic  train\n",
              "9    Antoun      Arabic  train"
            ],
            "text/html": [
              "\n",
              "  <div id=\"df-999326ac-de6b-4b1a-ae0d-215344420198\" class=\"colab-df-container\">\n",
              "    <div>\n",
              "<style scoped>\n",
              "    .dataframe tbody tr th:only-of-type {\n",
              "        vertical-align: middle;\n",
              "    }\n",
              "\n",
              "    .dataframe tbody tr th {\n",
              "        vertical-align: top;\n",
              "    }\n",
              "\n",
              "    .dataframe thead th {\n",
              "        text-align: right;\n",
              "    }\n",
              "</style>\n",
              "<table border=\"1\" class=\"dataframe\">\n",
              "  <thead>\n",
              "    <tr style=\"text-align: right;\">\n",
              "      <th></th>\n",
              "      <th>surname</th>\n",
              "      <th>nationality</th>\n",
              "      <th>split</th>\n",
              "    </tr>\n",
              "  </thead>\n",
              "  <tbody>\n",
              "    <tr>\n",
              "      <th>0</th>\n",
              "      <td>Totah</td>\n",
              "      <td>Arabic</td>\n",
              "      <td>train</td>\n",
              "    </tr>\n",
              "    <tr>\n",
              "      <th>1</th>\n",
              "      <td>Abboud</td>\n",
              "      <td>Arabic</td>\n",
              "      <td>train</td>\n",
              "    </tr>\n",
              "    <tr>\n",
              "      <th>2</th>\n",
              "      <td>Fakhoury</td>\n",
              "      <td>Arabic</td>\n",
              "      <td>train</td>\n",
              "    </tr>\n",
              "    <tr>\n",
              "      <th>3</th>\n",
              "      <td>Srour</td>\n",
              "      <td>Arabic</td>\n",
              "      <td>train</td>\n",
              "    </tr>\n",
              "    <tr>\n",
              "      <th>4</th>\n",
              "      <td>Sayegh</td>\n",
              "      <td>Arabic</td>\n",
              "      <td>train</td>\n",
              "    </tr>\n",
              "    <tr>\n",
              "      <th>5</th>\n",
              "      <td>Cham</td>\n",
              "      <td>Arabic</td>\n",
              "      <td>train</td>\n",
              "    </tr>\n",
              "    <tr>\n",
              "      <th>6</th>\n",
              "      <td>Haik</td>\n",
              "      <td>Arabic</td>\n",
              "      <td>train</td>\n",
              "    </tr>\n",
              "    <tr>\n",
              "      <th>7</th>\n",
              "      <td>Kattan</td>\n",
              "      <td>Arabic</td>\n",
              "      <td>train</td>\n",
              "    </tr>\n",
              "    <tr>\n",
              "      <th>8</th>\n",
              "      <td>Khouri</td>\n",
              "      <td>Arabic</td>\n",
              "      <td>train</td>\n",
              "    </tr>\n",
              "    <tr>\n",
              "      <th>9</th>\n",
              "      <td>Antoun</td>\n",
              "      <td>Arabic</td>\n",
              "      <td>train</td>\n",
              "    </tr>\n",
              "  </tbody>\n",
              "</table>\n",
              "</div>\n",
              "    <div class=\"colab-df-buttons\">\n",
              "\n",
              "  <div class=\"colab-df-container\">\n",
              "    <button class=\"colab-df-convert\" onclick=\"convertToInteractive('df-999326ac-de6b-4b1a-ae0d-215344420198')\"\n",
              "            title=\"Convert this dataframe to an interactive table.\"\n",
              "            style=\"display:none;\">\n",
              "\n",
              "  <svg xmlns=\"http://www.w3.org/2000/svg\" height=\"24px\" viewBox=\"0 -960 960 960\">\n",
              "    <path d=\"M120-120v-720h720v720H120Zm60-500h600v-160H180v160Zm220 220h160v-160H400v160Zm0 220h160v-160H400v160ZM180-400h160v-160H180v160Zm440 0h160v-160H620v160ZM180-180h160v-160H180v160Zm440 0h160v-160H620v160Z\"/>\n",
              "  </svg>\n",
              "    </button>\n",
              "\n",
              "  <style>\n",
              "    .colab-df-container {\n",
              "      display:flex;\n",
              "      gap: 12px;\n",
              "    }\n",
              "\n",
              "    .colab-df-convert {\n",
              "      background-color: #E8F0FE;\n",
              "      border: none;\n",
              "      border-radius: 50%;\n",
              "      cursor: pointer;\n",
              "      display: none;\n",
              "      fill: #1967D2;\n",
              "      height: 32px;\n",
              "      padding: 0 0 0 0;\n",
              "      width: 32px;\n",
              "    }\n",
              "\n",
              "    .colab-df-convert:hover {\n",
              "      background-color: #E2EBFA;\n",
              "      box-shadow: 0px 1px 2px rgba(60, 64, 67, 0.3), 0px 1px 3px 1px rgba(60, 64, 67, 0.15);\n",
              "      fill: #174EA6;\n",
              "    }\n",
              "\n",
              "    .colab-df-buttons div {\n",
              "      margin-bottom: 4px;\n",
              "    }\n",
              "\n",
              "    [theme=dark] .colab-df-convert {\n",
              "      background-color: #3B4455;\n",
              "      fill: #D2E3FC;\n",
              "    }\n",
              "\n",
              "    [theme=dark] .colab-df-convert:hover {\n",
              "      background-color: #434B5C;\n",
              "      box-shadow: 0px 1px 3px 1px rgba(0, 0, 0, 0.15);\n",
              "      filter: drop-shadow(0px 1px 2px rgba(0, 0, 0, 0.3));\n",
              "      fill: #FFFFFF;\n",
              "    }\n",
              "  </style>\n",
              "\n",
              "    <script>\n",
              "      const buttonEl =\n",
              "        document.querySelector('#df-999326ac-de6b-4b1a-ae0d-215344420198 button.colab-df-convert');\n",
              "      buttonEl.style.display =\n",
              "        google.colab.kernel.accessAllowed ? 'block' : 'none';\n",
              "\n",
              "      async function convertToInteractive(key) {\n",
              "        const element = document.querySelector('#df-999326ac-de6b-4b1a-ae0d-215344420198');\n",
              "        const dataTable =\n",
              "          await google.colab.kernel.invokeFunction('convertToInteractive',\n",
              "                                                    [key], {});\n",
              "        if (!dataTable) return;\n",
              "\n",
              "        const docLinkHtml = 'Like what you see? Visit the ' +\n",
              "          '<a target=\"_blank\" href=https://colab.research.google.com/notebooks/data_table.ipynb>data table notebook</a>'\n",
              "          + ' to learn more about interactive tables.';\n",
              "        element.innerHTML = '';\n",
              "        dataTable['output_type'] = 'display_data';\n",
              "        await google.colab.output.renderOutput(dataTable, element);\n",
              "        const docLink = document.createElement('div');\n",
              "        docLink.innerHTML = docLinkHtml;\n",
              "        element.appendChild(docLink);\n",
              "      }\n",
              "    </script>\n",
              "  </div>\n",
              "\n",
              "\n",
              "<div id=\"df-36e0796d-af81-4d52-84a4-8b385d7069d3\">\n",
              "  <button class=\"colab-df-quickchart\" onclick=\"quickchart('df-36e0796d-af81-4d52-84a4-8b385d7069d3')\"\n",
              "            title=\"Suggest charts\"\n",
              "            style=\"display:none;\">\n",
              "\n",
              "<svg xmlns=\"http://www.w3.org/2000/svg\" height=\"24px\"viewBox=\"0 0 24 24\"\n",
              "     width=\"24px\">\n",
              "    <g>\n",
              "        <path d=\"M19 3H5c-1.1 0-2 .9-2 2v14c0 1.1.9 2 2 2h14c1.1 0 2-.9 2-2V5c0-1.1-.9-2-2-2zM9 17H7v-7h2v7zm4 0h-2V7h2v10zm4 0h-2v-4h2v4z\"/>\n",
              "    </g>\n",
              "</svg>\n",
              "  </button>\n",
              "\n",
              "<style>\n",
              "  .colab-df-quickchart {\n",
              "      --bg-color: #E8F0FE;\n",
              "      --fill-color: #1967D2;\n",
              "      --hover-bg-color: #E2EBFA;\n",
              "      --hover-fill-color: #174EA6;\n",
              "      --disabled-fill-color: #AAA;\n",
              "      --disabled-bg-color: #DDD;\n",
              "  }\n",
              "\n",
              "  [theme=dark] .colab-df-quickchart {\n",
              "      --bg-color: #3B4455;\n",
              "      --fill-color: #D2E3FC;\n",
              "      --hover-bg-color: #434B5C;\n",
              "      --hover-fill-color: #FFFFFF;\n",
              "      --disabled-bg-color: #3B4455;\n",
              "      --disabled-fill-color: #666;\n",
              "  }\n",
              "\n",
              "  .colab-df-quickchart {\n",
              "    background-color: var(--bg-color);\n",
              "    border: none;\n",
              "    border-radius: 50%;\n",
              "    cursor: pointer;\n",
              "    display: none;\n",
              "    fill: var(--fill-color);\n",
              "    height: 32px;\n",
              "    padding: 0;\n",
              "    width: 32px;\n",
              "  }\n",
              "\n",
              "  .colab-df-quickchart:hover {\n",
              "    background-color: var(--hover-bg-color);\n",
              "    box-shadow: 0 1px 2px rgba(60, 64, 67, 0.3), 0 1px 3px 1px rgba(60, 64, 67, 0.15);\n",
              "    fill: var(--button-hover-fill-color);\n",
              "  }\n",
              "\n",
              "  .colab-df-quickchart-complete:disabled,\n",
              "  .colab-df-quickchart-complete:disabled:hover {\n",
              "    background-color: var(--disabled-bg-color);\n",
              "    fill: var(--disabled-fill-color);\n",
              "    box-shadow: none;\n",
              "  }\n",
              "\n",
              "  .colab-df-spinner {\n",
              "    border: 2px solid var(--fill-color);\n",
              "    border-color: transparent;\n",
              "    border-bottom-color: var(--fill-color);\n",
              "    animation:\n",
              "      spin 1s steps(1) infinite;\n",
              "  }\n",
              "\n",
              "  @keyframes spin {\n",
              "    0% {\n",
              "      border-color: transparent;\n",
              "      border-bottom-color: var(--fill-color);\n",
              "      border-left-color: var(--fill-color);\n",
              "    }\n",
              "    20% {\n",
              "      border-color: transparent;\n",
              "      border-left-color: var(--fill-color);\n",
              "      border-top-color: var(--fill-color);\n",
              "    }\n",
              "    30% {\n",
              "      border-color: transparent;\n",
              "      border-left-color: var(--fill-color);\n",
              "      border-top-color: var(--fill-color);\n",
              "      border-right-color: var(--fill-color);\n",
              "    }\n",
              "    40% {\n",
              "      border-color: transparent;\n",
              "      border-right-color: var(--fill-color);\n",
              "      border-top-color: var(--fill-color);\n",
              "    }\n",
              "    60% {\n",
              "      border-color: transparent;\n",
              "      border-right-color: var(--fill-color);\n",
              "    }\n",
              "    80% {\n",
              "      border-color: transparent;\n",
              "      border-right-color: var(--fill-color);\n",
              "      border-bottom-color: var(--fill-color);\n",
              "    }\n",
              "    90% {\n",
              "      border-color: transparent;\n",
              "      border-bottom-color: var(--fill-color);\n",
              "    }\n",
              "  }\n",
              "</style>\n",
              "\n",
              "  <script>\n",
              "    async function quickchart(key) {\n",
              "      const quickchartButtonEl =\n",
              "        document.querySelector('#' + key + ' button');\n",
              "      quickchartButtonEl.disabled = true;  // To prevent multiple clicks.\n",
              "      quickchartButtonEl.classList.add('colab-df-spinner');\n",
              "      try {\n",
              "        const charts = await google.colab.kernel.invokeFunction(\n",
              "            'suggestCharts', [key], {});\n",
              "      } catch (error) {\n",
              "        console.error('Error during call to suggestCharts:', error);\n",
              "      }\n",
              "      quickchartButtonEl.classList.remove('colab-df-spinner');\n",
              "      quickchartButtonEl.classList.add('colab-df-quickchart-complete');\n",
              "    }\n",
              "    (() => {\n",
              "      let quickchartButtonEl =\n",
              "        document.querySelector('#df-36e0796d-af81-4d52-84a4-8b385d7069d3 button');\n",
              "      quickchartButtonEl.style.display =\n",
              "        google.colab.kernel.accessAllowed ? 'block' : 'none';\n",
              "    })();\n",
              "  </script>\n",
              "</div>\n",
              "    </div>\n",
              "  </div>\n"
            ],
            "application/vnd.google.colaboratory.intrinsic+json": {
              "type": "dataframe",
              "variable_name": "df",
              "summary": "{\n  \"name\": \"df\",\n  \"rows\": 10980,\n  \"fields\": [\n    {\n      \"column\": \"surname\",\n      \"properties\": {\n        \"dtype\": \"string\",\n        \"num_unique_values\": 9041,\n        \"samples\": [\n          \"Kidner\",\n          \"Eade\",\n          \"Kirtley\"\n        ],\n        \"semantic_type\": \"\",\n        \"description\": \"\"\n      }\n    },\n    {\n      \"column\": \"nationality\",\n      \"properties\": {\n        \"dtype\": \"category\",\n        \"num_unique_values\": 18,\n        \"samples\": [\n          \"Arabic\",\n          \"Chinese\",\n          \"Irish\"\n        ],\n        \"semantic_type\": \"\",\n        \"description\": \"\"\n      }\n    },\n    {\n      \"column\": \"split\",\n      \"properties\": {\n        \"dtype\": \"category\",\n        \"num_unique_values\": 3,\n        \"samples\": [\n          \"train\",\n          \"val\",\n          \"test\"\n        ],\n        \"semantic_type\": \"\",\n        \"description\": \"\"\n      }\n    }\n  ]\n}"
            }
          },
          "metadata": {},
          "execution_count": 97
        }
      ],
      "source": [
        "import pandas as pd\n",
        "\n",
        "df = pd.read_csv('surnames_with_splits.csv')\n",
        "df.head(10)"
      ]
    },
    {
      "cell_type": "code",
      "source": [
        "# Подсчет количества каждой категории\n",
        "split_counts = df['split'].value_counts()\n",
        "\n",
        "# Расчет процента для каждой категории\n",
        "percentages = split_counts / len(df) * 100\n",
        "\n",
        "# Вывод результатов\n",
        "print(percentages)"
      ],
      "metadata": {
        "colab": {
          "base_uri": "https://localhost:8080/"
        },
        "id": "hKi0RiQLKp9G",
        "outputId": "c6afe0cf-c617-43ce-d205-6bdd279cbc1f"
      },
      "execution_count": null,
      "outputs": [
        {
          "output_type": "stream",
          "name": "stdout",
          "text": [
            "train    69.945355\n",
            "test     15.118397\n",
            "val      14.936248\n",
            "Name: split, dtype: float64\n"
          ]
        }
      ]
    },
    {
      "cell_type": "markdown",
      "source": [
        "~ 70% training data,\n",
        "\n",
        "~15% validation data\n",
        "\n",
        "~ 15% test data."
      ],
      "metadata": {
        "id": "93CggjmVKyKi"
      }
    },
    {
      "cell_type": "code",
      "source": [
        "split_counts"
      ],
      "metadata": {
        "colab": {
          "base_uri": "https://localhost:8080/"
        },
        "id": "lb3oh0GtbfPv",
        "outputId": "425b40ae-9a32-4207-8b25-f96d66ef4b70"
      },
      "execution_count": null,
      "outputs": [
        {
          "output_type": "execute_result",
          "data": {
            "text/plain": [
              "train    7680\n",
              "test     1660\n",
              "val      1640\n",
              "Name: split, dtype: int64"
            ]
          },
          "metadata": {},
          "execution_count": 99
        }
      ]
    },
    {
      "cell_type": "markdown",
      "source": [
        "### Vocabulary, Vectorizer, Dataset"
      ],
      "metadata": {
        "id": "ML68oBEDVsRT"
      }
    },
    {
      "cell_type": "code",
      "source": [
        "class Vocabulary(object):\n",
        "    \"\"\"Class to process text and extract vocabulary for mapping\"\"\"\n",
        "\n",
        "    def __init__(self, token_to_idx=None):\n",
        "        \"\"\"\n",
        "        Args:\n",
        "            token_to_idx (dict): a pre-existing map of tokens to indices\n",
        "        \"\"\"\n",
        "\n",
        "        if token_to_idx is None:\n",
        "            token_to_idx = {}\n",
        "        self._token_to_idx = token_to_idx\n",
        "\n",
        "        self._idx_to_token = {idx: token\n",
        "                              for token, idx in self._token_to_idx.items()}\n",
        "\n",
        "\n",
        "    def add_token(self, token):\n",
        "        \"\"\"Update mapping dicts based on the token.\n",
        "\n",
        "        Args:\n",
        "            token (str): the item to add into the Vocabulary\n",
        "        Returns:\n",
        "            index (int): the integer corresponding to the token\n",
        "        \"\"\"\n",
        "        if token in self._token_to_idx:\n",
        "            index = self._token_to_idx[token]\n",
        "        else:\n",
        "            index = len(self._token_to_idx)\n",
        "            self._token_to_idx[token] = index\n",
        "            self._idx_to_token[index] = token\n",
        "        return index\n",
        "\n",
        "    def add_many(self, tokens):\n",
        "        \"\"\"Add a list of tokens into the Vocabulary\n",
        "\n",
        "        Args:\n",
        "            tokens (list): a list of string tokens\n",
        "        Returns:\n",
        "            indices (list): a list of indices corresponding to the tokens\n",
        "        \"\"\"\n",
        "        return [self.add_token(token) for token in tokens]\n",
        "\n",
        "    def lookup_token(self, token):\n",
        "        \"\"\"Retrieve the index associated with the token\n",
        "\n",
        "        Args:\n",
        "            token (str): the token to look up\n",
        "        Returns:\n",
        "            index (int): the index corresponding to the token\n",
        "        \"\"\"\n",
        "        return self._token_to_idx[token]\n",
        "\n",
        "    def lookup_index(self, index):\n",
        "        \"\"\"Return the token associated with the index\n",
        "\n",
        "        Args:\n",
        "            index (int): the index to look up\n",
        "        Returns:\n",
        "            token (str): the token corresponding to the index\n",
        "        Raises:\n",
        "            KeyError: if the index is not in the Vocabulary\n",
        "        \"\"\"\n",
        "        if index not in self._idx_to_token:\n",
        "            raise KeyError(\"the index (%d) is not in the Vocabulary\" % index)\n",
        "        return self._idx_to_token[index]\n",
        "\n",
        "    def __str__(self):\n",
        "        return \"<Vocabulary(size=%d)>\" % len(self)\n",
        "\n",
        "    def __len__(self):\n",
        "        return len(self._token_to_idx)"
      ],
      "metadata": {
        "id": "iD7OlZUWUtqK"
      },
      "execution_count": null,
      "outputs": []
    },
    {
      "cell_type": "code",
      "source": [
        "class SequenceVocabulary(Vocabulary):\n",
        "    def __init__(self, token_to_idx=None, unk_token=\"<UNK>\",\n",
        "                 mask_token=\"<MASK>\", begin_seq_token=\"<BEGIN>\",\n",
        "                 end_seq_token=\"<END>\"):\n",
        "\n",
        "        super(SequenceVocabulary, self).__init__(token_to_idx)\n",
        "\n",
        "        self._mask_token = mask_token\n",
        "        self._unk_token = unk_token\n",
        "        self._begin_seq_token = begin_seq_token\n",
        "        self._end_seq_token = end_seq_token\n",
        "\n",
        "        self.mask_index = self.add_token(self._mask_token)\n",
        "        self.unk_index = self.add_token(self._unk_token)\n",
        "        self.begin_seq_index = self.add_token(self._begin_seq_token)\n",
        "        self.end_seq_index = self.add_token(self._end_seq_token)\n",
        "\n",
        "    def lookup_token(self, token):\n",
        "        \"\"\"Retrieve the index associated with the token\n",
        "          or the UNK index if token isn't present.\n",
        "\n",
        "        Args:\n",
        "            token (str): the token to look up\n",
        "        Returns:\n",
        "            index (int): the index corresponding to the token\n",
        "        Notes:\n",
        "            `unk_index` needs to be >=0 (having been added into the Vocabulary)\n",
        "              for the UNK functionality\n",
        "        \"\"\"\n",
        "        if self.unk_index >= 0:\n",
        "            return self._token_to_idx.get(token, self.unk_index)\n",
        "        else:\n",
        "            return self._token_to_idx[token]"
      ],
      "metadata": {
        "id": "2JW9yV7sVAjG"
      },
      "execution_count": null,
      "outputs": []
    },
    {
      "cell_type": "code",
      "source": [
        "class SurnameVectorizer(object):\n",
        "    \"\"\" The Vectorizer which coordinates the Vocabularies and puts them to use\"\"\"\n",
        "    def __init__(self, char_vocab, nationality_vocab):\n",
        "        \"\"\"\n",
        "        Args:\n",
        "            char_vocab (Vocabulary): maps characters to integers\n",
        "            nationality_vocab (Vocabulary): maps nationalities to integers\n",
        "        \"\"\"\n",
        "        self.char_vocab = char_vocab\n",
        "        self.nationality_vocab = nationality_vocab\n",
        "\n",
        "    def vectorize(self, surname, vector_length=-1):\n",
        "        \"\"\"\n",
        "        Args:\n",
        "            title (str): the string of characters\n",
        "            vector_length (int): an argument for forcing the length of index vector\n",
        "        \"\"\"\n",
        "        indices = [self.char_vocab.begin_seq_index]\n",
        "        indices.extend(self.char_vocab.lookup_token(token)\n",
        "                       for token in surname)\n",
        "        indices.append(self.char_vocab.end_seq_index)\n",
        "\n",
        "        if vector_length < 0:\n",
        "            vector_length = len(indices)\n",
        "\n",
        "        out_vector = np.zeros(vector_length, dtype=np.int64)\n",
        "        out_vector[:len(indices)] = indices\n",
        "        out_vector[len(indices):] = self.char_vocab.mask_index\n",
        "\n",
        "        return out_vector, len(indices)\n",
        "\n",
        "    @classmethod\n",
        "    def from_dataframe(cls, surname_df):\n",
        "        \"\"\"Instantiate the vectorizer from the dataset dataframe\n",
        "\n",
        "        Args:\n",
        "            surname_df (pandas.DataFrame): the surnames dataset\n",
        "        Returns:\n",
        "            an instance of the SurnameVectorizer\n",
        "        \"\"\"\n",
        "        char_vocab = SequenceVocabulary()\n",
        "        nationality_vocab = Vocabulary()\n",
        "\n",
        "        for index, row in surname_df.iterrows():\n",
        "            for char in row.surname:\n",
        "                char_vocab.add_token(char)\n",
        "            nationality_vocab.add_token(row.nationality)\n",
        "\n",
        "        return cls(char_vocab, nationality_vocab)"
      ],
      "metadata": {
        "id": "E508DK4hVEQ0"
      },
      "execution_count": null,
      "outputs": []
    },
    {
      "cell_type": "code",
      "source": [
        "class SurnameDataset(Dataset):\n",
        "    def __init__(self, surname_df, vectorizer):\n",
        "        \"\"\"\n",
        "        Args:\n",
        "            surname_df (pandas.DataFrame): the dataset\n",
        "            vectorizer (SurnameVectorizer): vectorizer instatiated from dataset\n",
        "        \"\"\"\n",
        "        self.surname_df = surname_df\n",
        "        self._vectorizer = vectorizer\n",
        "\n",
        "        self._max_seq_length = max(map(len, self.surname_df.surname)) + 2\n",
        "\n",
        "        self.train_df = self.surname_df[self.surname_df.split=='train']\n",
        "        self.train_size = len(self.train_df)\n",
        "\n",
        "        self.val_df = self.surname_df[self.surname_df.split=='val']\n",
        "        self.validation_size = len(self.val_df)\n",
        "\n",
        "        self._lookup_dict = {'train': (self.train_df, self.train_size),\n",
        "                             'val': (self.val_df, self.validation_size)}\n",
        "\n",
        "        self.set_split('train')\n",
        "\n",
        "        # Class weights\n",
        "        class_counts = self.train_df.nationality.value_counts().to_dict()\n",
        "        def sort_key(item):\n",
        "            return self._vectorizer.nationality_vocab.lookup_token(item[0])\n",
        "        sorted_counts = sorted(class_counts.items(), key=sort_key)\n",
        "        frequencies = [count for _, count in sorted_counts]\n",
        "        self.class_weights = 1.0 / torch.tensor(frequencies, dtype=torch.float32)\n",
        "\n",
        "\n",
        "    @classmethod\n",
        "    def load_dataset_and_make_vectorizer(cls, surname_csv):\n",
        "        \"\"\"Load dataset and make a new vectorizer from scratch\n",
        "\n",
        "        Args:\n",
        "            surname_csv (str): location of the dataset\n",
        "        Returns:\n",
        "            an instance of SurnameDataset\n",
        "        \"\"\"\n",
        "        surname_df = pd.read_csv(surname_csv)\n",
        "        train_surname_df = surname_df[surname_df.split=='train']\n",
        "        return cls(surname_df, SurnameVectorizer.from_dataframe(train_surname_df))\n",
        "\n",
        "\n",
        "    def get_vectorizer(self):\n",
        "        \"\"\" returns the vectorizer \"\"\"\n",
        "        return self._vectorizer\n",
        "\n",
        "    def set_split(self, split=\"train\"):\n",
        "        self._target_split = split\n",
        "        self._target_df, self._target_size = self._lookup_dict[split]\n",
        "\n",
        "    def __len__(self):\n",
        "        return self._target_size\n",
        "\n",
        "    def __getitem__(self, index):\n",
        "        \"\"\"the primary entry point method for PyTorch datasets\n",
        "\n",
        "        Args:\n",
        "            index (int): the index to the data point\n",
        "        Returns:\n",
        "            a dictionary holding the data point's:\n",
        "                features (x_data)\n",
        "                label (y_target)\n",
        "                feature length (x_length)\n",
        "        \"\"\"\n",
        "        row = self._target_df.iloc[index]\n",
        "\n",
        "        surname_vector, vec_length = \\\n",
        "            self._vectorizer.vectorize(row.surname, self._max_seq_length)\n",
        "\n",
        "        nationality_index = \\\n",
        "            self._vectorizer.nationality_vocab.lookup_token(row.nationality)\n",
        "\n",
        "        return {'x_data': surname_vector,\n",
        "                'y_target': nationality_index,\n",
        "                'x_length': vec_length}\n",
        "\n",
        "    def get_num_batches(self, batch_size):\n",
        "        return len(self) // batch_size\n",
        "\n",
        "\n",
        "\n",
        "def generate_batches(dataset, batch_size, shuffle=True,\n",
        "                     drop_last=True, device=\"cpu\"):\n",
        "    \"\"\"\n",
        "    A generator function which wraps the PyTorch DataLoader. It will\n",
        "      ensure each tensor is on the write device location.\n",
        "    \"\"\"\n",
        "    dataloader = DataLoader(dataset=dataset, batch_size=batch_size,\n",
        "                            shuffle=shuffle, drop_last=drop_last)\n",
        "\n",
        "    for data_dict in dataloader:\n",
        "        out_data_dict = {}\n",
        "        for name, tensor in data_dict.items():\n",
        "            out_data_dict[name] = data_dict[name].to(device)\n",
        "        yield out_data_dict"
      ],
      "metadata": {
        "id": "IbWOlQjJVIEF"
      },
      "execution_count": null,
      "outputs": []
    },
    {
      "cell_type": "markdown",
      "source": [
        "### Baseline model: RNN (с практики)\n",
        "\n",
        "\n",
        "nn.Embedding(num_embeddings=num_embeddings,\n",
        "                                embedding_dim=embedding_size,\n",
        "                                padding_idx=padding_idx)\n",
        "\n",
        "nn.RNN(input_size=embedding_size,\n",
        "                           hidden_size=rnn_hidden_size,\n",
        "                           batch_first=batch_first)\n",
        "\n",
        "nn.Linear(in_features=rnn_hidden_size,\n",
        "                         out_features=rnn_hidden_size)\n",
        "\n",
        "nn.Linear(in_features=rnn_hidden_size,\n",
        "                          out_features=num_classes)"
      ],
      "metadata": {
        "id": "H1gO3fLMVzwM"
      }
    },
    {
      "cell_type": "code",
      "source": [
        "def column_gather(y_out, x_lengths):\n",
        "    '''Get a specific vector from each batch datapoint in `y_out`.\n",
        "\n",
        "    More precisely, iterate over batch row indices, get the vector that's at\n",
        "    the position indicated by the corresponding value in `x_lengths` at the row\n",
        "    index.\n",
        "\n",
        "    Args:\n",
        "        y_out (torch.FloatTensor, torch.cuda.FloatTensor)\n",
        "            shape: (batch, sequence, feature)\n",
        "        x_lengths (torch.LongTensor, torch.cuda.LongTensor)\n",
        "            shape: (batch,)\n",
        "\n",
        "    Returns:\n",
        "        y_out (torch.FloatTensor, torch.cuda.FloatTensor)\n",
        "            shape: (batch, feature)\n",
        "    '''\n",
        "    x_lengths = x_lengths.long().detach().cpu().numpy() - 1\n",
        "\n",
        "    out = []\n",
        "    for batch_index, column_index in enumerate(x_lengths):\n",
        "        out.append(y_out[batch_index, column_index])\n",
        "\n",
        "    return torch.stack(out)\n",
        "\n",
        "\n",
        "class SurnameClassifier(nn.Module):\n",
        "    \"\"\" A Classifier with an RNN to extract features and an MLP to classify \"\"\"\n",
        "    def __init__(self, embedding_size, num_embeddings, num_classes,\n",
        "                 rnn_hidden_size, batch_first=True, padding_idx=0):\n",
        "        \"\"\"\n",
        "        Args:\n",
        "            embedding_size (int): The size of the character embeddings\n",
        "            num_embeddings (int): The number of characters to embed\n",
        "            num_classes (int): The size of the prediction vector\n",
        "                Note: the number of nationalities\n",
        "            rnn_hidden_size (int): The size of the RNN's hidden state\n",
        "            batch_first (bool): Informs whether the input tensors will\n",
        "                have batch or the sequence on the 0th dimension\n",
        "            padding_idx (int): The index for the tensor padding;\n",
        "                see torch.nn.Embedding\n",
        "        \"\"\"\n",
        "        super(SurnameClassifier, self).__init__()\n",
        "\n",
        "        self.emb = nn.Embedding(num_embeddings=num_embeddings,\n",
        "                                embedding_dim=embedding_size,\n",
        "                                padding_idx=padding_idx)\n",
        "        self.rnn = nn.RNN(input_size=embedding_size,\n",
        "                           hidden_size=rnn_hidden_size,\n",
        "                           batch_first=batch_first)\n",
        "        self.fc1 = nn.Linear(in_features=rnn_hidden_size,\n",
        "                         out_features=rnn_hidden_size)\n",
        "        self.fc2 = nn.Linear(in_features=rnn_hidden_size,\n",
        "                          out_features=num_classes)\n",
        "\n",
        "    def forward(self, x_in, x_lengths=None, apply_softmax=False):\n",
        "        \"\"\"The forward pass of the classifier\n",
        "\n",
        "        Args:\n",
        "            x_in (torch.Tensor): an input data tensor.\n",
        "                x_in.shape should be (batch, input_dim)\n",
        "            x_lengths (torch.Tensor): the lengths of each sequence in the batch.\n",
        "                They are used to find the final vector of each sequence\n",
        "            apply_softmax (bool): a flag for the softmax activation\n",
        "                should be false if used with the Cross Entropy losses\n",
        "        Returns:\n",
        "            the resulting tensor. tensor.shape should be (batch, output_dim)\n",
        "        \"\"\"\n",
        "        x_embedded = self.emb(x_in)\n",
        "        y_out, _ = self.rnn(x_embedded)\n",
        "\n",
        "        if x_lengths is not None:\n",
        "            y_out = column_gather(y_out, x_lengths)\n",
        "        else:\n",
        "            y_out = y_out[:, -1, :]\n",
        "\n",
        "        y_out = F.relu(self.fc1(y_out))\n",
        "        y_out = self.fc2(y_out)\n",
        "        # y_out = F.relu(self.fc1(F.dropout(y_out, 0.5)))\n",
        "        # y_out = self.fc2(F.dropout(y_out, 0.5))\n",
        "\n",
        "        if apply_softmax:\n",
        "            y_out = F.softmax(y_out, dim=1)\n",
        "\n",
        "        return y_out"
      ],
      "metadata": {
        "id": "dEPKhRRoV9At"
      },
      "execution_count": null,
      "outputs": []
    },
    {
      "cell_type": "code",
      "source": [
        "def set_seed_everywhere(seed, cuda):\n",
        "    np.random.seed(seed)\n",
        "    torch.manual_seed(seed)\n",
        "    if cuda:\n",
        "        torch.cuda.manual_seed_all(seed)"
      ],
      "metadata": {
        "id": "tGkIJqkYAkMR"
      },
      "execution_count": null,
      "outputs": []
    },
    {
      "cell_type": "markdown",
      "source": [
        "#### Parameters of RNN Baseline Model\n",
        "- Epoch = 25\n",
        "- char_embedding_size=100\n",
        "- rnn_hidden_size=64\n",
        "- batch_size=64\n",
        "- Optimizer = Adam\n",
        "- learning_rate=1e-3\n",
        "- Learning rate schedule: lr_scheduler.ReduceLROnPlateau"
      ],
      "metadata": {
        "id": "NHDHjzQ2NWc_"
      }
    },
    {
      "cell_type": "code",
      "source": [
        "args = Namespace(\n",
        "    # Data and path information\n",
        "    surname_csv=\"surnames_with_splits.csv\",\n",
        "    # Model hyper parameter\n",
        "    char_embedding_size=100,\n",
        "    rnn_hidden_size=64,\n",
        "    # Training hyper parameter\n",
        "    num_epochs=25,\n",
        "    learning_rate=1e-3,\n",
        "    batch_size=64,\n",
        "    seed=1337,\n",
        "    # Runtime hyper parameter\n",
        "    cuda=True,\n",
        "    catch_keyboard_interrupt=True,\n",
        ")\n",
        "\n",
        "# Check CUDA\n",
        "if not torch.cuda.is_available():\n",
        "    args.cuda = False\n",
        "\n",
        "args.device = torch.device(\"cuda\" if args.cuda else \"cpu\")\n",
        "\n",
        "print(\"Using CUDA: {}\".format(args.cuda))\n",
        "\n",
        "\n",
        "# Set seed for reproducibility\n",
        "set_seed_everywhere(args.seed, args.cuda)"
      ],
      "metadata": {
        "colab": {
          "base_uri": "https://localhost:8080/"
        },
        "id": "VVI8r1VFNVmz",
        "outputId": "b7ca4e50-6f4f-41ca-8f1d-d9bed5064fe4"
      },
      "execution_count": null,
      "outputs": [
        {
          "output_type": "stream",
          "name": "stdout",
          "text": [
            "Using CUDA: False\n"
          ]
        }
      ]
    },
    {
      "cell_type": "code",
      "source": [
        "dataset = SurnameDataset.load_dataset_and_make_vectorizer(args.surname_csv)\n",
        "vectorizer = dataset.get_vectorizer()\n",
        "classifier = SurnameClassifier(embedding_size=args.char_embedding_size,\n",
        "                               num_embeddings=len(vectorizer.char_vocab),\n",
        "                               num_classes=len(vectorizer.nationality_vocab),\n",
        "                               rnn_hidden_size=args.rnn_hidden_size,\n",
        "                               padding_idx=vectorizer.char_vocab.mask_index)"
      ],
      "metadata": {
        "id": "h8Nq2uLZRd_-"
      },
      "execution_count": null,
      "outputs": []
    },
    {
      "cell_type": "code",
      "source": [
        "def compute_accuracy(y_pred, y_target):\n",
        "    _, y_pred_indices = y_pred.max(dim=1)\n",
        "    n_correct = torch.eq(y_pred_indices, y_target).sum().item()\n",
        "    return n_correct / len(y_pred_indices) * 100"
      ],
      "metadata": {
        "id": "gI4NC_N9Rtdj"
      },
      "execution_count": null,
      "outputs": []
    },
    {
      "cell_type": "code",
      "source": [
        "classifier = classifier.to(args.device)\n",
        "#dataset.class_weights = dataset.class_weights.to(args.device)\n",
        "\n",
        "loss_func = nn.CrossEntropyLoss()\n",
        "optimizer = optim.Adam(classifier.parameters(), lr=args.learning_rate)\n",
        "scheduler = optim.lr_scheduler.ReduceLROnPlateau(optimizer=optimizer,\n",
        "                                           mode='min', factor=0.5,\n",
        "                                           patience=1)\n",
        "\n",
        "train_state = {'learning_rate': args.learning_rate,\n",
        "               'epoch_index': 0,\n",
        "               'train_loss': [],\n",
        "               'train_acc': [],\n",
        "               'val_loss': [],\n",
        "               'val_acc': []}\n",
        "import time as t\n",
        "t1 = t.perf_counter()\n",
        "\n",
        "try:\n",
        "    for epoch_index in tqdm(range(args.num_epochs)):\n",
        "        train_state['epoch_index'] = epoch_index\n",
        "\n",
        "        dataset.set_split('train')\n",
        "        batch_generator = generate_batches(dataset,\n",
        "                                            batch_size=args.batch_size,\n",
        "                                            device=args.device)\n",
        "        running_loss = 0.0\n",
        "        running_acc = 0.0\n",
        "        classifier.train()\n",
        "\n",
        "        for batch_index, batch_dict in enumerate(batch_generator):\n",
        "            optimizer.zero_grad()\n",
        "            y_pred = classifier(x_in=batch_dict['x_data'],\n",
        "                                x_lengths=batch_dict['x_length'])\n",
        "\n",
        "            loss = loss_func(y_pred, batch_dict['y_target'])\n",
        "\n",
        "            running_loss += (loss.item() - running_loss) / (batch_index + 1)\n",
        "\n",
        "            loss.backward()\n",
        "\n",
        "            optimizer.step()\n",
        "            acc_t = compute_accuracy(y_pred, batch_dict['y_target'])\n",
        "            running_acc += (acc_t - running_acc) / (batch_index + 1)\n",
        "\n",
        "        train_state['train_loss'].append(running_loss)\n",
        "        train_state['train_acc'].append(running_acc)\n",
        "\n",
        "        dataset.set_split('val')\n",
        "        batch_generator = generate_batches(dataset,\n",
        "                                          batch_size=args.batch_size,\n",
        "                                          device=args.device)\n",
        "        running_loss = 0.\n",
        "        running_acc = 0.\n",
        "        classifier.eval()\n",
        "\n",
        "        for batch_index, batch_dict in enumerate(batch_generator):\n",
        "            y_pred = classifier(x_in=batch_dict['x_data'],\n",
        "                                x_lengths=batch_dict['x_length'])\n",
        "\n",
        "            loss = loss_func(y_pred, batch_dict['y_target'])\n",
        "            running_loss += (loss.item() - running_loss) / (batch_index + 1)\n",
        "\n",
        "            acc_t = compute_accuracy(y_pred, batch_dict['y_target'])\n",
        "            running_acc += (acc_t - running_acc) / (batch_index + 1)\n",
        "\n",
        "        train_state['val_loss'].append(running_loss)\n",
        "        train_state['val_acc'].append(running_acc)\n",
        "\n",
        "        scheduler.step(train_state['val_loss'][-1])\n",
        "        '''\n",
        "        if train_state['stop_early']:\n",
        "            break\n",
        "        '''\n",
        "except KeyboardInterrupt:\n",
        "    print(\"Exiting loop\")\n",
        "\n",
        "\n",
        "print('-----')\n",
        "t2 = t.perf_counter()\n",
        "print(\"Running time = {:.2f}\".format(t2-t1))\n"
      ],
      "metadata": {
        "colab": {
          "base_uri": "https://localhost:8080/",
          "height": 85,
          "referenced_widgets": [
            "244e893e595f4bc696ec3e2b775261d3",
            "96feb4df8c2146798933077123915ba2",
            "d966f872388c4e31b333e81425e65074",
            "6c76693f525b48629e6f7d2191b1272b",
            "f27c27491bdb41a0b4dd4162f25f20f8",
            "058c223dd9864218bc13858c160d2824",
            "7bf6b700f7f04806ab1e89812e078a6c",
            "c924ae02351546eaa8e94ead00748b50",
            "4ee95113bc514c7fb6a219c5ede11b45",
            "3595d7488d114cb8a46ed923015c994e",
            "bded8370ff974d8289ba6951a985323b"
          ]
        },
        "id": "iRqtXnswRx97",
        "outputId": "2616a63c-8a1e-4feb-a1ac-812dd285a6f2"
      },
      "execution_count": null,
      "outputs": [
        {
          "output_type": "display_data",
          "data": {
            "text/plain": [
              "  0%|          | 0/25 [00:00<?, ?it/s]"
            ],
            "application/vnd.jupyter.widget-view+json": {
              "version_major": 2,
              "version_minor": 0,
              "model_id": "244e893e595f4bc696ec3e2b775261d3"
            }
          },
          "metadata": {}
        },
        {
          "output_type": "stream",
          "name": "stdout",
          "text": [
            "-----\n",
            "Running time = 66.03\n"
          ]
        }
      ]
    },
    {
      "cell_type": "code",
      "source": [
        "loss_labels = [\"train_loss\", \"val_loss\"]\n",
        "\n",
        "for label in loss_labels:\n",
        "    y = train_state[label]\n",
        "    plt.plot(y, label=label)\n",
        "    plt.title(\"Потери обучения модели\")\n",
        "    plt.xlabel(\"Эпохи обучения\")\n",
        "plt.legend()"
      ],
      "metadata": {
        "colab": {
          "base_uri": "https://localhost:8080/",
          "height": 490
        },
        "id": "V4HYCr4JTGhx",
        "outputId": "8cef6e4b-3436-4b9e-9ad1-48126cc4efc9"
      },
      "execution_count": null,
      "outputs": [
        {
          "output_type": "execute_result",
          "data": {
            "text/plain": [
              "<matplotlib.legend.Legend at 0x798d8dcfae60>"
            ]
          },
          "metadata": {},
          "execution_count": 110
        },
        {
          "output_type": "display_data",
          "data": {
            "text/plain": [
              "<Figure size 640x480 with 1 Axes>"
            ],
            "image/png": "[encoded data removed]"
          },
          "metadata": {}
        }
      ]
    },
    {
      "cell_type": "code",
      "source": [
        "acc_labels = [\"train_acc\", \"val_acc\"]\n",
        "for label in acc_labels:\n",
        "    y = train_state[label]\n",
        "    plt.plot(y, label=label)\n",
        "    plt.title(\"Точность обучения модели\")\n",
        "    plt.xlabel(\"Эпохи обучения\")\n",
        "plt.legend()"
      ],
      "metadata": {
        "colab": {
          "base_uri": "https://localhost:8080/",
          "height": 490
        },
        "id": "Zk-RLUI5THGB",
        "outputId": "bae227a6-c15b-4304-faf7-47ebe14e3276"
      },
      "execution_count": null,
      "outputs": [
        {
          "output_type": "execute_result",
          "data": {
            "text/plain": [
              "<matplotlib.legend.Legend at 0x798d8d405b40>"
            ]
          },
          "metadata": {},
          "execution_count": 111
        },
        {
          "output_type": "display_data",
          "data": {
            "text/plain": [
              "<Figure size 640x480 with 1 Axes>"
            ],
            "image/png": "[encoded data removed]"
          },
          "metadata": {}
        }
      ]
    },
    {
      "cell_type": "code",
      "source": [
        "y #точность до переобучения - 71.75000000000001, что соответсвует 6 эпохе"
      ],
      "metadata": {
        "colab": {
          "base_uri": "https://localhost:8080/"
        },
        "id": "cysaPCVwjdFH",
        "outputId": "d3138bfb-39bf-45e2-e6bb-7333aa60c092"
      },
      "execution_count": null,
      "outputs": [
        {
          "output_type": "execute_result",
          "data": {
            "text/plain": [
              "[56.5625,\n",
              " 63.81250000000001,\n",
              " 67.31250000000001,\n",
              " 69.0,\n",
              " 70.06249999999997,\n",
              " 70.49999999999999,\n",
              " 71.75000000000001,\n",
              " 71.56249999999999,\n",
              " 72.5625,\n",
              " 71.62500000000001,\n",
              " 72.5,\n",
              " 72.62499999999999,\n",
              " 73.49999999999999,\n",
              " 73.125,\n",
              " 73.62500000000001,\n",
              " 72.9375,\n",
              " 73.43750000000001,\n",
              " 73.6875,\n",
              " 73.125,\n",
              " 73.74999999999999,\n",
              " 73.5625,\n",
              " 73.9375,\n",
              " 73.25000000000001,\n",
              " 73.125,\n",
              " 73.93749999999999]"
            ]
          },
          "metadata": {},
          "execution_count": 112
        }
      ]
    },
    {
      "cell_type": "markdown",
      "source": [
        "### Проведите два эксперимента-исследования при изменении гиперпараметров,cформулируйте выводы:\n",
        "\n",
        "• **Измените архитектуру нейронной сети** (например, RNN, LSTM, GRU и т.д.),\n",
        "\n",
        "self.rnn = nn.RNN(input_size=embedding_size, hidden_size=rnn_hidden_size, batch_first=batch_first)\n"
      ],
      "metadata": {
        "id": "xME4wZZV7q5V"
      }
    },
    {
      "cell_type": "markdown",
      "source": [
        "#### Добавим LeakyReLU активатор и Batch Normalization\n",
        "\n",
        "\n",
        "nn.Embedding(num_embeddings=num_embeddings,\n",
        "                                embedding_dim=embedding_size,\n",
        "                                padding_idx=padding_idx)\n",
        "\n",
        "nn.RNN(input_size=embedding_size,\n",
        "                           hidden_size=rnn_hidden_size,\n",
        "                           batch_first=batch_first)\n",
        "\n",
        "**nn.Sequential**(\n",
        "            nn.Linear(in_features=rnn_hidden_size,out_features=rnn_hidden_size),\n",
        "            **nn.BatchNorm1d(rnn_hidden_size), nn.LeakyReLU()**)\n",
        "\n",
        "nn.Linear(in_features=rnn_hidden_size,\n",
        "                          out_features=num_classes)\n"
      ],
      "metadata": {
        "id": "uE3JZfdxUfyl"
      }
    },
    {
      "cell_type": "markdown",
      "source": [
        "##### Параметры модели и обучения оставим теми же"
      ],
      "metadata": {
        "id": "xMrhj61pYMWT"
      }
    },
    {
      "cell_type": "code",
      "source": [
        "class SurnameClassifier_modified(nn.Module):\n",
        "    \"\"\" A Classifier with an RNN to extract features and an MLP to classify \"\"\"\n",
        "    def __init__(self, embedding_size, num_embeddings, num_classes,\n",
        "                 rnn_hidden_size, batch_first=True, padding_idx=0):\n",
        "        \"\"\"\n",
        "        Args:\n",
        "            embedding_size (int): The size of the character embeddings\n",
        "            num_embeddings (int): The number of characters to embed\n",
        "            num_classes (int): The size of the prediction vector\n",
        "                Note: the number of nationalities\n",
        "            rnn_hidden_size (int): The size of the RNN's hidden state\n",
        "            batch_first (bool): Informs whether the input tensors will\n",
        "                have batch or the sequence on the 0th dimension\n",
        "            padding_idx (int): The index for the tensor padding;\n",
        "                see torch.nn.Embedding\n",
        "        \"\"\"\n",
        "        super(SurnameClassifier_modified, self).__init__()\n",
        "\n",
        "        self.emb = nn.Embedding(num_embeddings=num_embeddings,\n",
        "                                embedding_dim=embedding_size,\n",
        "                                padding_idx=padding_idx)\n",
        "\n",
        "        self.rnn = nn.RNN(input_size=embedding_size,\n",
        "                           hidden_size=rnn_hidden_size,\n",
        "                           batch_first=batch_first)\n",
        "\n",
        "        self.fc1 = nn.Sequential(\n",
        "            nn.Linear(in_features=rnn_hidden_size,out_features=rnn_hidden_size),\n",
        "            nn.BatchNorm1d(rnn_hidden_size), nn.LeakyReLU())\n",
        "\n",
        "        self.fc2 = nn.Linear(in_features=rnn_hidden_size,\n",
        "                          out_features=num_classes)\n",
        "\n",
        "    def forward(self, x_in, x_lengths=None, apply_softmax=False):\n",
        "        \"\"\"The forward pass of the classifier\n",
        "\n",
        "        Args:\n",
        "            x_in (torch.Tensor): an input data tensor.\n",
        "                x_in.shape should be (batch, input_dim)\n",
        "            x_lengths (torch.Tensor): the lengths of each sequence in the batch.\n",
        "                They are used to find the final vector of each sequence\n",
        "            apply_softmax (bool): a flag for the softmax activation\n",
        "                should be false if used with the Cross Entropy losses\n",
        "        Returns:\n",
        "            the resulting tensor. tensor.shape should be (batch, output_dim)\n",
        "        \"\"\"\n",
        "        x_embedded = self.emb(x_in)\n",
        "        y_out, _ = self.rnn(x_embedded)\n",
        "\n",
        "        if x_lengths is not None:\n",
        "            y_out = column_gather(y_out, x_lengths)\n",
        "        else:\n",
        "            y_out = y_out[:, -1, :]\n",
        "\n",
        "        y_out = F.relu(self.fc1(y_out))\n",
        "        y_out = self.fc2(y_out)\n",
        "        # y_out = F.relu(self.fc1(F.dropout(y_out, 0.5)))\n",
        "        # y_out = self.fc2(F.dropout(y_out, 0.5))\n",
        "\n",
        "        if apply_softmax:\n",
        "            y_out = F.softmax(y_out, dim=1)\n",
        "\n",
        "        return y_out"
      ],
      "metadata": {
        "id": "_FWGBG1P75hL"
      },
      "execution_count": null,
      "outputs": []
    },
    {
      "cell_type": "code",
      "source": [
        "args = Namespace(\n",
        "    # Data and path information\n",
        "    surname_csv=\"surnames_with_splits.csv\",\n",
        "    # Model hyper parameter\n",
        "    char_embedding_size=100,\n",
        "    rnn_hidden_size=64,\n",
        "    # Training hyper parameter\n",
        "    num_epochs=25,\n",
        "    learning_rate=1e-3,\n",
        "    batch_size=64,\n",
        "    seed=1337,\n",
        "    # Runtime hyper parameter\n",
        "    cuda=True,\n",
        "    catch_keyboard_interrupt=True,\n",
        ")\n",
        "\n",
        "# Check CUDA\n",
        "if not torch.cuda.is_available():\n",
        "    args.cuda = False\n",
        "\n",
        "args.device = torch.device(\"cuda\" if args.cuda else \"cpu\")\n",
        "\n",
        "print(\"Using CUDA: {}\".format(args.cuda))\n",
        "\n",
        "\n",
        "# Set seed for reproducibility\n",
        "set_seed_everywhere(args.seed, args.cuda)"
      ],
      "metadata": {
        "colab": {
          "base_uri": "https://localhost:8080/"
        },
        "id": "a07wvakMabLM",
        "outputId": "7a03a37a-6eeb-47f1-e27f-57df6fdb9d6d"
      },
      "execution_count": null,
      "outputs": [
        {
          "output_type": "stream",
          "name": "stdout",
          "text": [
            "Using CUDA: False\n"
          ]
        }
      ]
    },
    {
      "cell_type": "code",
      "source": [
        "classifier_modified = SurnameClassifier_modified(embedding_size=args.char_embedding_size,\n",
        "                               num_embeddings=len(vectorizer.char_vocab),\n",
        "                               num_classes=len(vectorizer.nationality_vocab),\n",
        "                               rnn_hidden_size=args.rnn_hidden_size,\n",
        "                               padding_idx=vectorizer.char_vocab.mask_index)"
      ],
      "metadata": {
        "id": "cFQNlWnMYcRy"
      },
      "execution_count": null,
      "outputs": []
    },
    {
      "cell_type": "code",
      "source": [
        "classifier_modified = classifier_modified.to(args.device)\n",
        "#dataset.class_weights = dataset.class_weights.to(args.device)\n",
        "\n",
        "loss_func = nn.CrossEntropyLoss()\n",
        "optimizer = optim.Adam(classifier_modified.parameters(), lr=args.learning_rate)\n",
        "scheduler = optim.lr_scheduler.ReduceLROnPlateau(optimizer=optimizer,\n",
        "                                           mode='min', factor=0.5,\n",
        "                                           patience=1)\n",
        "\n",
        "train_state = {'learning_rate': args.learning_rate,\n",
        "               'epoch_index': 0,\n",
        "               'train_loss': [],\n",
        "               'train_acc': [],\n",
        "               'val_loss': [],\n",
        "               'val_acc': []}\n",
        "import time as t\n",
        "t1 = t.perf_counter()\n",
        "\n",
        "\n",
        "try:\n",
        "    for epoch_index in tqdm(range(args.num_epochs)):\n",
        "        train_state['epoch_index'] = epoch_index\n",
        "\n",
        "        dataset.set_split('train')\n",
        "        batch_generator = generate_batches(dataset,\n",
        "                                            batch_size=args.batch_size,\n",
        "                                            device=args.device)\n",
        "        running_loss = 0.0\n",
        "        running_acc = 0.0\n",
        "        classifier_modified.train()\n",
        "\n",
        "        for batch_index, batch_dict in enumerate(batch_generator):\n",
        "            optimizer.zero_grad()\n",
        "            y_pred = classifier_modified(x_in=batch_dict['x_data'],\n",
        "                                x_lengths=batch_dict['x_length'])\n",
        "\n",
        "            loss = loss_func(y_pred, batch_dict['y_target'])\n",
        "\n",
        "            running_loss += (loss.item() - running_loss) / (batch_index + 1)\n",
        "\n",
        "            loss.backward()\n",
        "\n",
        "            optimizer.step()\n",
        "            acc_t = compute_accuracy(y_pred, batch_dict['y_target'])\n",
        "            running_acc += (acc_t - running_acc) / (batch_index + 1)\n",
        "\n",
        "        train_state['train_loss'].append(running_loss)\n",
        "        train_state['train_acc'].append(running_acc)\n",
        "\n",
        "        dataset.set_split('val')\n",
        "        batch_generator = generate_batches(dataset,\n",
        "                                          batch_size=args.batch_size,\n",
        "                                          device=args.device)\n",
        "        running_loss = 0.\n",
        "        running_acc = 0.\n",
        "        classifier_modified.eval()\n",
        "\n",
        "        for batch_index, batch_dict in enumerate(batch_generator):\n",
        "            y_pred = classifier_modified(x_in=batch_dict['x_data'],\n",
        "                                x_lengths=batch_dict['x_length'])\n",
        "\n",
        "            loss = loss_func(y_pred, batch_dict['y_target'])\n",
        "            running_loss += (loss.item() - running_loss) / (batch_index + 1)\n",
        "\n",
        "            acc_t = compute_accuracy(y_pred, batch_dict['y_target'])\n",
        "            running_acc += (acc_t - running_acc) / (batch_index + 1)\n",
        "\n",
        "        train_state['val_loss'].append(running_loss)\n",
        "        train_state['val_acc'].append(running_acc)\n",
        "\n",
        "        scheduler.step(train_state['val_loss'][-1])\n",
        "        '''\n",
        "        if train_state['stop_early']:\n",
        "            break\n",
        "        '''\n",
        "except KeyboardInterrupt:\n",
        "    print(\"Exiting loop\")\n",
        "\n",
        "\n",
        "print('-----')\n",
        "t2 = t.perf_counter()\n",
        "print(\"Running time = {:.2f}\".format(t2-t1))"
      ],
      "metadata": {
        "colab": {
          "base_uri": "https://localhost:8080/",
          "height": 85,
          "referenced_widgets": [
            "1c6cc0a2ea8d46dbace09c44df750517",
            "f368adfd8ba84a749a8fafa1e202bd07",
            "c0b63e51af8b4300b741c2197d8f018c",
            "561190b22788475e9ccf62c6f5205c3d",
            "94f43c0bc15f4188a95aa7744aa295e2",
            "153da45c706c4bfca6a7048e3bbee580",
            "e34e12f881aa472bb3286352b3f2a723",
            "97dd9d7f05444d5281cd2c2d1c7b894b",
            "4a05378c46fb4d9d8b747d47d779b1e2",
            "296fa224e76547c48679735c1eae1f81",
            "bd097dd3693942cdace983fc0e865b0a"
          ]
        },
        "id": "I1rBGscxf1GC",
        "outputId": "d8e6eb39-ac0e-46b6-dc2e-9129b637c73b"
      },
      "execution_count": null,
      "outputs": [
        {
          "output_type": "display_data",
          "data": {
            "text/plain": [
              "  0%|          | 0/25 [00:00<?, ?it/s]"
            ],
            "application/vnd.jupyter.widget-view+json": {
              "version_major": 2,
              "version_minor": 0,
              "model_id": "1c6cc0a2ea8d46dbace09c44df750517"
            }
          },
          "metadata": {}
        },
        {
          "output_type": "stream",
          "name": "stdout",
          "text": [
            "-----\n",
            "Running time = 67.87\n"
          ]
        }
      ]
    },
    {
      "cell_type": "code",
      "source": [
        "loss_labels = [\"train_loss\", \"val_loss\"]\n",
        "\n",
        "for label in loss_labels:\n",
        "    y = train_state[label]\n",
        "    plt.plot(y, label=label)\n",
        "    plt.title(\"Потери обучения модели\")\n",
        "    plt.xlabel(\"Эпохи обучения\")\n",
        "plt.legend()"
      ],
      "metadata": {
        "colab": {
          "base_uri": "https://localhost:8080/",
          "height": 490
        },
        "id": "XkTKW1ADY0WP",
        "outputId": "73482414-0a33-440d-84e9-cd70561ae576"
      },
      "execution_count": null,
      "outputs": [
        {
          "output_type": "execute_result",
          "data": {
            "text/plain": [
              "<matplotlib.legend.Legend at 0x798d8dc0fe50>"
            ]
          },
          "metadata": {},
          "execution_count": 117
        },
        {
          "output_type": "display_data",
          "data": {
            "text/plain": [
              "<Figure size 640x480 with 1 Axes>"
            ],
            "image/png": "[encoded data removed]"
          },
          "metadata": {}
        }
      ]
    },
    {
      "cell_type": "code",
      "source": [
        "acc_labels = [\"train_acc\", \"val_acc\"]\n",
        "for label in acc_labels:\n",
        "    y = train_state[label]\n",
        "    plt.plot(y, label=label)\n",
        "    plt.title(\"Точность обучения модели\")\n",
        "    plt.xlabel(\"Эпохи обучения\")\n",
        "plt.legend()"
      ],
      "metadata": {
        "colab": {
          "base_uri": "https://localhost:8080/",
          "height": 490
        },
        "id": "QqMgwflnY53c",
        "outputId": "fbf3a4ce-215a-4340-bd4c-5282ed600486"
      },
      "execution_count": null,
      "outputs": [
        {
          "output_type": "execute_result",
          "data": {
            "text/plain": [
              "<matplotlib.legend.Legend at 0x798d8dcfad40>"
            ]
          },
          "metadata": {},
          "execution_count": 118
        },
        {
          "output_type": "display_data",
          "data": {
            "text/plain": [
              "<Figure size 640x480 with 1 Axes>"
            ],
            "image/png": "[encoded data removed]"
          },
          "metadata": {}
        }
      ]
    },
    {
      "cell_type": "code",
      "source": [
        "y #точность до переобучения - 72.25000000000001, что соответсвует 5 эпохе"
      ],
      "metadata": {
        "colab": {
          "base_uri": "https://localhost:8080/"
        },
        "id": "gmr7g41wi4Q3",
        "outputId": "05d6a371-58ff-49de-e283-391f937a78cc"
      },
      "execution_count": null,
      "outputs": [
        {
          "output_type": "execute_result",
          "data": {
            "text/plain": [
              "[58.874999999999986,\n",
              " 62.375,\n",
              " 68.125,\n",
              " 70.125,\n",
              " 70.9375,\n",
              " 72.25000000000001,\n",
              " 71.00000000000001,\n",
              " 72.5,\n",
              " 73.4375,\n",
              " 72.50000000000003,\n",
              " 73.5,\n",
              " 73.37500000000001,\n",
              " 73.99999999999999,\n",
              " 73.75000000000001,\n",
              " 74.5,\n",
              " 75.125,\n",
              " 75.24999999999999,\n",
              " 75.4375,\n",
              " 74.6875,\n",
              " 75.25,\n",
              " 75.25,\n",
              " 75.25,\n",
              " 75.24999999999999,\n",
              " 75.06249999999999,\n",
              " 75.18750000000003]"
            ]
          },
          "metadata": {},
          "execution_count": 119
        }
      ]
    },
    {
      "cell_type": "markdown",
      "source": [
        "#### Выводы по изменнной архитектуре: добавление Leaky ReLU и BatchNorm\n",
        "\n",
        "По графикам бейзлайна можно заметить, что после ~6 эпохи происходит переобучение. Точность до момента переобучения составляет **71.75**.\n",
        "\n",
        "Также с 1 по 3 эпоху может наблюдаться небольшое недообучение, тк точность на тренировочном наборе данных была немного ниже нежели на валидационном. Однако разница незначительна.\n",
        "\n",
        "С целью улучшения качества модели было принято решение добавить Leaky ReLU и BatchNorm.\n",
        "\n",
        "Базовая модель RNN уже демонстрирует переобучение или ухудшение в процессе обучения, добавление LeakyReLU и Batch Normalization может помочь улучшить ее обобщающую способность и стабильность.\n",
        "\n",
        "1. LeakyReLU:\n",
        "   - Помогает избежать затухания градиентов: LeakyReLU способен сохранять некоторый градиент даже для отрицательных значений, что помогает в предотвращении затухания градиентов.\n",
        "   - Предотвращает \"мёртвые нейроны\": Эта функция активации помогает избежать обнуления активаций и в случае переобучения может помочь активировать больше нейронов.\n",
        "   \n",
        "2. Batch Normalization:\n",
        "   - Стабилизация обучения: Batch Normalization помогает стабилизировать распределения данных внутри сети на каждом этапе обучения, сглаживая шумы и ускоряя сходимость модели.\n",
        "   - Регуляризация: Этот слой также может работать как регуляризатор, что помогает предотвратить переобучение путем добавления шума в каждом батче обучающих данных.\n",
        "\n",
        "И, дейстивтельно, *качество модели*, выраженное в метрике точности, *выросло* с **71.75** до **72.25**.\n",
        "\n",
        "Однако эти изменения незначительны, поэтому попробуем улучшить гиперапараметры для улучшенной архитектуры.\n",
        "\n"
      ],
      "metadata": {
        "id": "Wft1YJxAb0ud"
      }
    },
    {
      "cell_type": "markdown",
      "source": [
        "• **Измените гиперпараметры для выбранной архитектуры сети** (например,\n",
        "embedding_size, rnn_hidden_size и др)."
      ],
      "metadata": {
        "id": "Y7f9bwQITqkC"
      }
    },
    {
      "cell_type": "markdown",
      "source": [
        "- Epoch = **30**\n",
        "- char_embedding_size=**200**\n",
        "- rnn_hidden_size=**128**\n",
        "- batch_size=**32**\n",
        "- Optimizer = Adam\n",
        "- learning_rate=1e-3\n",
        "- Learning rate schedule: lr_scheduler.ReduceLROnPlateau\n",
        "- **weight_decay = 1e-4 (L2 regularization)**"
      ],
      "metadata": {
        "id": "Mjg_rDNeqE1V"
      }
    },
    {
      "cell_type": "code",
      "source": [
        "args = Namespace(\n",
        "    # Data and path information\n",
        "    surname_csv=\"surnames_with_splits.csv\",\n",
        "    # Model hyper parameter\n",
        "    char_embedding_size=200,\n",
        "    rnn_hidden_size=128,\n",
        "    # Training hyper parameter\n",
        "    num_epochs=30,\n",
        "    learning_rate=1e-3,\n",
        "    batch_size=32,\n",
        "    weight_decay = 1e-4,\n",
        "    seed=1337,\n",
        "    # Runtime hyper parameter\n",
        "    cuda=True,\n",
        "    catch_keyboard_interrupt=True,\n",
        ")\n",
        "\n",
        "# Check CUDA\n",
        "if not torch.cuda.is_available():\n",
        "    args.cuda = False\n",
        "\n",
        "args.device = torch.device(\"cuda\" if args.cuda else \"cpu\")\n",
        "\n",
        "print(\"Using CUDA: {}\".format(args.cuda))\n",
        "\n",
        "\n",
        "# Set seed for reproducibility\n",
        "set_seed_everywhere(args.seed, args.cuda)"
      ],
      "metadata": {
        "colab": {
          "base_uri": "https://localhost:8080/"
        },
        "id": "8ZfmGid_Traf",
        "outputId": "e81eb8b7-f9ae-4079-e4b0-166fa93ddc4b"
      },
      "execution_count": null,
      "outputs": [
        {
          "output_type": "stream",
          "name": "stdout",
          "text": [
            "Using CUDA: False\n"
          ]
        }
      ]
    },
    {
      "cell_type": "code",
      "source": [
        "classifier_modified = SurnameClassifier_modified(embedding_size=args.char_embedding_size,\n",
        "                               num_embeddings=len(vectorizer.char_vocab),\n",
        "                               num_classes=len(vectorizer.nationality_vocab),\n",
        "                               rnn_hidden_size=args.rnn_hidden_size,\n",
        "                               padding_idx=vectorizer.char_vocab.mask_index)"
      ],
      "metadata": {
        "id": "HEgjhqMTqjmT"
      },
      "execution_count": null,
      "outputs": []
    },
    {
      "cell_type": "code",
      "source": [
        "classifier_modified = classifier_modified.to(args.device)\n",
        "#dataset.class_weights = dataset.class_weights.to(args.device)\n",
        "\n",
        "loss_func = nn.CrossEntropyLoss()\n",
        "optimizer = optim.Adam(classifier_modified.parameters(), lr=args.learning_rate)\n",
        "scheduler = optim.lr_scheduler.ReduceLROnPlateau(optimizer=optimizer,\n",
        "                                           mode='min', factor=0.5,\n",
        "                                           patience=1)\n",
        "\n",
        "train_state = {'learning_rate': args.learning_rate,\n",
        "               'epoch_index': 0,\n",
        "               'train_loss': [],\n",
        "               'train_acc': [],\n",
        "               'val_loss': [],\n",
        "               'val_acc': []}\n",
        "import time as t\n",
        "t1 = t.perf_counter()\n",
        "\n",
        "\n",
        "try:\n",
        "    for epoch_index in tqdm(range(args.num_epochs)):\n",
        "        train_state['epoch_index'] = epoch_index\n",
        "\n",
        "        dataset.set_split('train')\n",
        "        batch_generator = generate_batches(dataset,\n",
        "                                            batch_size=args.batch_size,\n",
        "                                            device=args.device)\n",
        "        running_loss = 0.0\n",
        "        running_acc = 0.0\n",
        "        classifier_modified.train()\n",
        "\n",
        "        for batch_index, batch_dict in enumerate(batch_generator):\n",
        "            optimizer.zero_grad()\n",
        "            y_pred = classifier_modified(x_in=batch_dict['x_data'],\n",
        "                                x_lengths=batch_dict['x_length'])\n",
        "\n",
        "            loss = loss_func(y_pred, batch_dict['y_target'])\n",
        "\n",
        "            running_loss += (loss.item() - running_loss) / (batch_index + 1)\n",
        "\n",
        "            loss.backward()\n",
        "\n",
        "            optimizer.step()\n",
        "            acc_t = compute_accuracy(y_pred, batch_dict['y_target'])\n",
        "            running_acc += (acc_t - running_acc) / (batch_index + 1)\n",
        "\n",
        "        train_state['train_loss'].append(running_loss)\n",
        "        train_state['train_acc'].append(running_acc)\n",
        "\n",
        "        dataset.set_split('val')\n",
        "        batch_generator = generate_batches(dataset,\n",
        "                                          batch_size=args.batch_size,\n",
        "                                          device=args.device)\n",
        "        running_loss = 0.\n",
        "        running_acc = 0.\n",
        "        classifier_modified.eval()\n",
        "\n",
        "        for batch_index, batch_dict in enumerate(batch_generator):\n",
        "            y_pred = classifier_modified(x_in=batch_dict['x_data'],\n",
        "                                x_lengths=batch_dict['x_length'])\n",
        "\n",
        "            loss = loss_func(y_pred, batch_dict['y_target'])\n",
        "            running_loss += (loss.item() - running_loss) / (batch_index + 1)\n",
        "\n",
        "            acc_t = compute_accuracy(y_pred, batch_dict['y_target'])\n",
        "            running_acc += (acc_t - running_acc) / (batch_index + 1)\n",
        "\n",
        "        train_state['val_loss'].append(running_loss)\n",
        "        train_state['val_acc'].append(running_acc)\n",
        "\n",
        "        scheduler.step(train_state['val_loss'][-1])\n",
        "        '''\n",
        "        if train_state['stop_early']:\n",
        "            break\n",
        "        '''\n",
        "except KeyboardInterrupt:\n",
        "    print(\"Exiting loop\")\n",
        "\n",
        "\n",
        "print('-----')\n",
        "t2 = t.perf_counter()\n",
        "print(\"Running time = {:.2f}\".format(t2-t1))"
      ],
      "metadata": {
        "colab": {
          "base_uri": "https://localhost:8080/",
          "height": 85,
          "referenced_widgets": [
            "8462486edf854aa584c2eb6781f09abf",
            "0cda6a0fdbf142bf8a1198aae8e97158",
            "f5584510061040c2a93be5d6fbf16f8b",
            "98a66876b89d4a3fb4bb0074036a34d2",
            "a52a159a62734a19b5c954f5e12ef59c",
            "14d2c2570dc047bdab6b95139fed3025",
            "e65616fda7614b94aa0e30cab6036d87",
            "79deae28bcd74f48a760fcfe3124b74b",
            "3936f90fdc434469bc83280e9b781462",
            "21f1431da375483d9328e8da596b4f4a",
            "974a807493a24f4cb39fefb85e5baa0a"
          ]
        },
        "id": "zbGJas-Lqrk1",
        "outputId": "423f3e11-eb15-44a3-b854-fc9cf41687ab"
      },
      "execution_count": null,
      "outputs": [
        {
          "output_type": "display_data",
          "data": {
            "text/plain": [
              "  0%|          | 0/30 [00:00<?, ?it/s]"
            ],
            "application/vnd.jupyter.widget-view+json": {
              "version_major": 2,
              "version_minor": 0,
              "model_id": "8462486edf854aa584c2eb6781f09abf"
            }
          },
          "metadata": {}
        },
        {
          "output_type": "stream",
          "name": "stdout",
          "text": [
            "-----\n",
            "Running time = 134.56\n"
          ]
        }
      ]
    },
    {
      "cell_type": "code",
      "source": [
        "loss_labels = [\"train_loss\", \"val_loss\"]\n",
        "\n",
        "for label in loss_labels:\n",
        "    y = train_state[label]\n",
        "    plt.plot(y, label=label)\n",
        "    plt.title(\"Потери обучения модели\")\n",
        "    plt.xlabel(\"Эпохи обучения\")\n",
        "plt.legend()"
      ],
      "metadata": {
        "colab": {
          "base_uri": "https://localhost:8080/",
          "height": 490
        },
        "id": "Z1gDFOLSqwlq",
        "outputId": "827b8a24-b8a2-4664-9e1a-8c1e6b5bd2c6"
      },
      "execution_count": null,
      "outputs": [
        {
          "output_type": "execute_result",
          "data": {
            "text/plain": [
              "<matplotlib.legend.Legend at 0x798d8db06650>"
            ]
          },
          "metadata": {},
          "execution_count": 123
        },
        {
          "output_type": "display_data",
          "data": {
            "text/plain": [
              "<Figure size 640x480 with 1 Axes>"
            ],
            "image/png": "[encoded data removed]"
          },
          "metadata": {}
        }
      ]
    },
    {
      "cell_type": "code",
      "source": [
        "acc_labels = [\"train_acc\", \"val_acc\"]\n",
        "for label in acc_labels:\n",
        "    y = train_state[label]\n",
        "    plt.plot(y, label=label)\n",
        "    plt.title(\"Точность обучения модели\")\n",
        "    plt.xlabel(\"Эпохи обучения\")\n",
        "plt.legend()"
      ],
      "metadata": {
        "colab": {
          "base_uri": "https://localhost:8080/",
          "height": 490
        },
        "id": "klQX5tXAq0s1",
        "outputId": "6a35b888-c695-45dc-badd-f9a115feae6c"
      },
      "execution_count": null,
      "outputs": [
        {
          "output_type": "execute_result",
          "data": {
            "text/plain": [
              "<matplotlib.legend.Legend at 0x798d8d99df60>"
            ]
          },
          "metadata": {},
          "execution_count": 124
        },
        {
          "output_type": "display_data",
          "data": {
            "text/plain": [
              "<Figure size 640x480 with 1 Axes>"
            ],
            "image/png": "[encoded data removed]"
          },
          "metadata": {}
        }
      ]
    },
    {
      "cell_type": "code",
      "source": [
        "y#точность до переобучения -  76.7156862745098, что соответсвует 12 эпохе"
      ],
      "metadata": {
        "colab": {
          "base_uri": "https://localhost:8080/"
        },
        "id": "dGyqiXTEySwh",
        "outputId": "bb93bc35-6cb0-496d-83c8-d32b407cf29a"
      },
      "execution_count": null,
      "outputs": [
        {
          "output_type": "execute_result",
          "data": {
            "text/plain": [
              "[65.625,\n",
              " 70.22058823529413,\n",
              " 71.75245098039215,\n",
              " 72.61029411764709,\n",
              " 72.18137254901961,\n",
              " 72.85539215686278,\n",
              " 74.50980392156865,\n",
              " 74.44852941176474,\n",
              " 75.06127450980391,\n",
              " 75.73529411764707,\n",
              " 76.53186274509802,\n",
              " 76.22549019607844,\n",
              " 76.7156862745098,\n",
              " 76.28676470588235,\n",
              " 76.47058823529413,\n",
              " 76.28676470588238,\n",
              " 76.22549019607845,\n",
              " 76.4093137254902,\n",
              " 76.47058823529409,\n",
              " 76.59313725490198,\n",
              " 76.40931372549022,\n",
              " 76.59313725490196,\n",
              " 76.28676470588233,\n",
              " 76.28676470588233,\n",
              " 76.22549019607844,\n",
              " 76.1029411764706,\n",
              " 76.3480392156863,\n",
              " 76.34803921568627,\n",
              " 76.40931372549018,\n",
              " 76.4093137254902]"
            ]
          },
          "metadata": {},
          "execution_count": 125
        }
      ]
    },
    {
      "cell_type": "markdown",
      "source": [
        " Точность модели на валидационной выборке возросла до **76.72**. Однако визуально мы можем наблюдать больший разрыв между графиками точности валидационной и тренировочной выборок по сравнению с предыдущими моделями.\n",
        "\n",
        " После 12 эпохи происходит переобучение, тк разница в точности на тренировочном наборе данных и валидационном составляет ~15. Тем не менее, измененная модель более устойчива к переобучению. Это связано с тем, что она начинает переобучаться позже, после 12 эпох, по сравнению с предыдущими моделями."
      ],
      "metadata": {
        "id": "n1bGoydZzwgt"
      }
    },
    {
      "cell_type": "markdown",
      "source": [
        "### Целевые метки в датасете не сбалансированы.\n",
        "\n",
        "Для учета весов классов в функцию потерь CrossEntropyLoss передают аргумент с\n",
        "соответствующими весами.\n",
        "\n",
        "dataset.class_weights = dataset.class_weights.to(args.device)\n",
        "\n",
        "loss_func = nn.CrossEntropyLoss(dataset.class_weights)"
      ],
      "metadata": {
        "id": "yQlucx167-sP"
      }
    },
    {
      "cell_type": "markdown",
      "source": [
        "##### Проделаем эти действия с бейзлайн моделью"
      ],
      "metadata": {
        "id": "_F6CgufF2Rx7"
      }
    },
    {
      "cell_type": "code",
      "source": [
        "args = Namespace(\n",
        "    # Data and path information\n",
        "    surname_csv=\"surnames_with_splits.csv\",\n",
        "    # Model hyper parameter\n",
        "    char_embedding_size=100,\n",
        "    rnn_hidden_size=64,\n",
        "    # Training hyper parameter\n",
        "    num_epochs=25,\n",
        "    learning_rate=1e-3,\n",
        "    batch_size=64,\n",
        "    seed=1337,\n",
        "    # Runtime hyper parameter\n",
        "    cuda=True,\n",
        "    catch_keyboard_interrupt=True,\n",
        ")\n",
        "\n",
        "# Check CUDA\n",
        "if not torch.cuda.is_available():\n",
        "    args.cuda = False\n",
        "\n",
        "args.device = torch.device(\"cuda\" if args.cuda else \"cpu\")\n",
        "\n",
        "print(\"Using CUDA: {}\".format(args.cuda))\n",
        "\n",
        "\n",
        "# Set seed for reproducibility\n",
        "set_seed_everywhere(args.seed, args.cuda)"
      ],
      "metadata": {
        "colab": {
          "base_uri": "https://localhost:8080/"
        },
        "id": "qx3h6Nph3Qbo",
        "outputId": "e36692cf-670a-4650-9aa1-9c608f528c77"
      },
      "execution_count": null,
      "outputs": [
        {
          "output_type": "stream",
          "name": "stdout",
          "text": [
            "Using CUDA: False\n"
          ]
        }
      ]
    },
    {
      "cell_type": "code",
      "source": [
        "classifier = SurnameClassifier(embedding_size=args.char_embedding_size,\n",
        "                               num_embeddings=len(vectorizer.char_vocab),\n",
        "                               num_classes=len(vectorizer.nationality_vocab),\n",
        "                               rnn_hidden_size=args.rnn_hidden_size,\n",
        "                               padding_idx=vectorizer.char_vocab.mask_index)"
      ],
      "metadata": {
        "id": "2reyR5KoQQG0"
      },
      "execution_count": null,
      "outputs": []
    },
    {
      "cell_type": "code",
      "source": [
        "classifier = classifier.to(args.device)\n",
        "dataset.class_weights = dataset.class_weights.to(args.device)\n",
        "\n",
        "loss_func = nn.CrossEntropyLoss(dataset.class_weights)\n",
        "optimizer = optim.Adam(classifier.parameters(), lr=args.learning_rate)\n",
        "scheduler = optim.lr_scheduler.ReduceLROnPlateau(optimizer=optimizer,\n",
        "                                           mode='min', factor=0.5,\n",
        "                                           patience=1)\n",
        "\n",
        "train_state = {'learning_rate': args.learning_rate,\n",
        "               'epoch_index': 0,\n",
        "               'train_loss': [],\n",
        "               'train_acc': [],\n",
        "               'val_loss': [],\n",
        "               'val_acc': []}\n",
        "import time as t\n",
        "t1 = t.perf_counter()\n",
        "\n",
        "try:\n",
        "    for epoch_index in tqdm(range(args.num_epochs)):\n",
        "        train_state['epoch_index'] = epoch_index\n",
        "\n",
        "        dataset.set_split('train')\n",
        "        batch_generator = generate_batches(dataset,\n",
        "                                            batch_size=args.batch_size,\n",
        "                                            device=args.device)\n",
        "        running_loss = 0.0\n",
        "        running_acc = 0.0\n",
        "        classifier.train()\n",
        "\n",
        "        for batch_index, batch_dict in enumerate(batch_generator):\n",
        "            optimizer.zero_grad()\n",
        "            y_pred = classifier(x_in=batch_dict['x_data'],\n",
        "                                x_lengths=batch_dict['x_length'])\n",
        "\n",
        "            loss = loss_func(y_pred, batch_dict['y_target'])\n",
        "\n",
        "            running_loss += (loss.item() - running_loss) / (batch_index + 1)\n",
        "\n",
        "            loss.backward()\n",
        "\n",
        "            optimizer.step()\n",
        "            acc_t = compute_accuracy(y_pred, batch_dict['y_target'])\n",
        "            running_acc += (acc_t - running_acc) / (batch_index + 1)\n",
        "\n",
        "        train_state['train_loss'].append(running_loss)\n",
        "        train_state['train_acc'].append(running_acc)\n",
        "\n",
        "        dataset.set_split('val')\n",
        "        batch_generator = generate_batches(dataset,\n",
        "                                          batch_size=args.batch_size,\n",
        "                                          device=args.device)\n",
        "        running_loss = 0.\n",
        "        running_acc = 0.\n",
        "        classifier.eval()\n",
        "\n",
        "        for batch_index, batch_dict in enumerate(batch_generator):\n",
        "            y_pred = classifier(x_in=batch_dict['x_data'],\n",
        "                                x_lengths=batch_dict['x_length'])\n",
        "\n",
        "            loss = loss_func(y_pred, batch_dict['y_target'])\n",
        "            running_loss += (loss.item() - running_loss) / (batch_index + 1)\n",
        "\n",
        "            acc_t = compute_accuracy(y_pred, batch_dict['y_target'])\n",
        "            running_acc += (acc_t - running_acc) / (batch_index + 1)\n",
        "\n",
        "        train_state['val_loss'].append(running_loss)\n",
        "        train_state['val_acc'].append(running_acc)\n",
        "\n",
        "        scheduler.step(train_state['val_loss'][-1])\n",
        "        '''\n",
        "        if train_state['stop_early']:\n",
        "            break\n",
        "        '''\n",
        "except KeyboardInterrupt:\n",
        "    print(\"Exiting loop\")\n",
        "\n",
        "\n",
        "print('-----')\n",
        "t2 = t.perf_counter()\n",
        "print(\"Running time = {:.2f}\".format(t2-t1))\n"
      ],
      "metadata": {
        "colab": {
          "base_uri": "https://localhost:8080/",
          "height": 85,
          "referenced_widgets": [
            "d10976f950d44c07a5852ed16080a88f",
            "0869f980337b4e40bd2b977c766c658b",
            "4b3a34069f3948968ddbb50a0bdc258e",
            "16ca9c38eb3548b3a0a82d3d12a28634",
            "d69372a4e00e4a2692a9ed7f85c01ff6",
            "f28610c4f3f743f8a12dab559df3b180",
            "c6927d3f637f4714aae88b2b7af94e66",
            "ccbc5d747be949b585dedbcaeae5d369",
            "a655440f75b74496a91c4751a060dd87",
            "a1c389deaf3a4f85bda90c4c6023b04a",
            "f4e7d94e2e304c7f944c677ac85940f4"
          ]
        },
        "id": "dR5MoJQN2Q8A",
        "outputId": "dc9b903a-a4e8-42c7-b146-17954075466f"
      },
      "execution_count": null,
      "outputs": [
        {
          "output_type": "display_data",
          "data": {
            "text/plain": [
              "  0%|          | 0/25 [00:00<?, ?it/s]"
            ],
            "application/vnd.jupyter.widget-view+json": {
              "version_major": 2,
              "version_minor": 0,
              "model_id": "d10976f950d44c07a5852ed16080a88f"
            }
          },
          "metadata": {}
        },
        {
          "output_type": "stream",
          "name": "stdout",
          "text": [
            "-----\n",
            "Running time = 66.43\n"
          ]
        }
      ]
    },
    {
      "cell_type": "code",
      "source": [
        "loss_labels = [\"train_loss\", \"val_loss\"]\n",
        "\n",
        "for label in loss_labels:\n",
        "    y = train_state[label]\n",
        "    plt.plot(y, label=label)\n",
        "    plt.title(\"Потери обучения модели\")\n",
        "    plt.xlabel(\"Эпохи обучения\")\n",
        "plt.legend()"
      ],
      "metadata": {
        "id": "am4qJwx28FMz",
        "colab": {
          "base_uri": "https://localhost:8080/",
          "height": 490
        },
        "outputId": "63878c89-6119-41e3-d725-e38cd1f48e9d"
      },
      "execution_count": null,
      "outputs": [
        {
          "output_type": "execute_result",
          "data": {
            "text/plain": [
              "<matplotlib.legend.Legend at 0x798d8e8b0670>"
            ]
          },
          "metadata": {},
          "execution_count": 129
        },
        {
          "output_type": "display_data",
          "data": {
            "text/plain": [
              "<Figure size 640x480 with 1 Axes>"
            ],
            "image/png": "[encoded data removed]"
          },
          "metadata": {}
        }
      ]
    },
    {
      "cell_type": "code",
      "source": [
        "acc_labels = [\"train_acc\", \"val_acc\"]\n",
        "for label in acc_labels:\n",
        "    y = train_state[label]\n",
        "    plt.plot(y, label=label)\n",
        "    plt.title(\"Точность обучения модели\")\n",
        "    plt.xlabel(\"Эпохи обучения\")\n",
        "plt.legend()"
      ],
      "metadata": {
        "colab": {
          "base_uri": "https://localhost:8080/",
          "height": 490
        },
        "id": "ubRN7t3A2uTC",
        "outputId": "b4aba596-3af9-493c-96ae-5187b926d74a"
      },
      "execution_count": null,
      "outputs": [
        {
          "output_type": "execute_result",
          "data": {
            "text/plain": [
              "<matplotlib.legend.Legend at 0x798d8e834310>"
            ]
          },
          "metadata": {},
          "execution_count": 130
        },
        {
          "output_type": "display_data",
          "data": {
            "text/plain": [
              "<Figure size 640x480 with 1 Axes>"
            ],
            "image/png": "[encoded data removed]"
          },
          "metadata": {}
        }
      ]
    },
    {
      "cell_type": "code",
      "source": [
        "y"
      ],
      "metadata": {
        "colab": {
          "base_uri": "https://localhost:8080/"
        },
        "id": "2B4qMuyH4Cck",
        "outputId": "de7bb63a-472e-4196-cdce-35b568d30bc1"
      },
      "execution_count": null,
      "outputs": [
        {
          "output_type": "execute_result",
          "data": {
            "text/plain": [
              "[37.99999999999999,\n",
              " 47.12500000000001,\n",
              " 40.87499999999999,\n",
              " 43.06249999999999,\n",
              " 49.5,\n",
              " 46.68750000000001,\n",
              " 48.125,\n",
              " 46.00000000000001,\n",
              " 48.9375,\n",
              " 51.25000000000001,\n",
              " 51.37500000000001,\n",
              " 51.12500000000001,\n",
              " 55.12499999999999,\n",
              " 55.250000000000014,\n",
              " 56.0,\n",
              " 55.9375,\n",
              " 55.437500000000014,\n",
              " 57.24999999999999,\n",
              " 56.75000000000001,\n",
              " 56.437499999999986,\n",
              " 57.4375,\n",
              " 57.31249999999999,\n",
              " 57.437500000000014,\n",
              " 57.31249999999999,\n",
              " 57.31250000000001]"
            ]
          },
          "metadata": {},
          "execution_count": 131
        }
      ]
    },
    {
      "cell_type": "markdown",
      "source": [
        "Как изменились потери/точность при обучении при наличии/отсутствии аргумента\n",
        "с весами классов? Чем можно объяснить данные изменения?"
      ],
      "metadata": {
        "id": "wHRoDbqi33br"
      }
    },
    {
      "cell_type": "markdown",
      "source": [
        "Точность модели значительно снизилась при наличии аргумента с весами классов, примерно на 20%. Одним из объяснений может являться недостаточное количество данных. Некоторые классы представлены недостаточно в обучающем наборе данных, поэтому веса классов не улучшают производительность модели. Модель не получает достаточно информации для обучения на этих классах."
      ],
      "metadata": {
        "id": "73mwFBDQ3494"
      }
    },
    {
      "cell_type": "markdown",
      "source": [
        "### Оценка предсказаний"
      ],
      "metadata": {
        "id": "EWid85qM8Fm0"
      }
    },
    {
      "cell_type": "code",
      "source": [
        "def predict_nationality(surname, classifier, vectorizer):\n",
        "    vectorized_surname, vec_length = vectorizer.vectorize(surname)\n",
        "    vectorized_surname = torch.tensor(vectorized_surname).unsqueeze(dim=0)\n",
        "    vec_length = torch.tensor([vec_length], dtype=torch.int64)\n",
        "\n",
        "    result = classifier(vectorized_surname, vec_length, apply_softmax=True)\n",
        "    probability_values, indices = result.max(dim=1)\n",
        "\n",
        "    index = indices.item()\n",
        "    prob_value = probability_values.item()\n",
        "\n",
        "    predicted_nationality = vectorizer.nationality_vocab.lookup_index(index)\n",
        "\n",
        "    return {'nationality': predicted_nationality, 'probability': prob_value, 'surname': surname}\n"
      ],
      "metadata": {
        "id": "3nXUTl0a8M67"
      },
      "execution_count": null,
      "outputs": []
    },
    {
      "cell_type": "code",
      "source": [
        "# surname = input(\"Enter a surname: \")\n",
        "classifier = classifier.to(\"cpu\")\n",
        "for surname in ['McMahan', 'Nakamoto', 'Wan', 'Cho']:\n",
        "    print(predict_nationality(surname, classifier, vectorizer))\n"
      ],
      "metadata": {
        "id": "39a7jFWCgY2C",
        "colab": {
          "base_uri": "https://localhost:8080/"
        },
        "outputId": "15aeca3b-1965-4c84-f0ac-690eb666255d"
      },
      "execution_count": null,
      "outputs": [
        {
          "output_type": "stream",
          "name": "stdout",
          "text": [
            "{'nationality': 'Irish', 'probability': 0.7678006887435913, 'surname': 'McMahan'}\n",
            "{'nationality': 'Japanese', 'probability': 0.9800524711608887, 'surname': 'Nakamoto'}\n",
            "{'nationality': 'Chinese', 'probability': 0.7162925601005554, 'surname': 'Wan'}\n",
            "{'nationality': 'Korean', 'probability': 0.6000786423683167, 'surname': 'Cho'}\n"
          ]
        }
      ]
    },
    {
      "cell_type": "code",
      "source": [
        "predict_nationality('Nedobezhkin', classifier, vectorizer)"
      ],
      "metadata": {
        "colab": {
          "base_uri": "https://localhost:8080/"
        },
        "id": "JObsAIdO59Bl",
        "outputId": "5266d552-385b-460c-f07f-446e02e33c17"
      },
      "execution_count": null,
      "outputs": [
        {
          "output_type": "execute_result",
          "data": {
            "text/plain": [
              "{'nationality': 'Russian',\n",
              " 'probability': 0.9816584587097168,\n",
              " 'surname': 'Nedobezhkin'}"
            ]
          },
          "metadata": {},
          "execution_count": 134
        }
      ]
    },
    {
      "cell_type": "code",
      "source": [
        "predict_nationality('Vinnichenko', classifier, vectorizer)"
      ],
      "metadata": {
        "colab": {
          "base_uri": "https://localhost:8080/"
        },
        "id": "flJqCeH36DiF",
        "outputId": "07e3040a-bac7-4c8a-a035-3e02a2759ab9"
      },
      "execution_count": null,
      "outputs": [
        {
          "output_type": "execute_result",
          "data": {
            "text/plain": [
              "{'nationality': 'Russian',\n",
              " 'probability': 0.9103266000747681,\n",
              " 'surname': 'Vinnichenko'}"
            ]
          },
          "metadata": {},
          "execution_count": 135
        }
      ]
    },
    {
      "cell_type": "code",
      "source": [
        "predict_nationality('Vitko', classifier, vectorizer)"
      ],
      "metadata": {
        "colab": {
          "base_uri": "https://localhost:8080/"
        },
        "id": "ZdqV_5wE6Mls",
        "outputId": "29dccba8-877e-45a8-a88d-a4cc2b2de783"
      },
      "execution_count": null,
      "outputs": [
        {
          "output_type": "execute_result",
          "data": {
            "text/plain": [
              "{'nationality': 'Russian',\n",
              " 'probability': 0.7480090856552124,\n",
              " 'surname': 'Vitko'}"
            ]
          },
          "metadata": {},
          "execution_count": 136
        }
      ]
    },
    {
      "cell_type": "code",
      "source": [
        "predict_nationality('Mendoza', classifier, vectorizer)"
      ],
      "metadata": {
        "colab": {
          "base_uri": "https://localhost:8080/"
        },
        "id": "RbTcSN8k6Qg0",
        "outputId": "3809f05a-67e4-4c6b-a08d-cc560105d0eb"
      },
      "execution_count": null,
      "outputs": [
        {
          "output_type": "execute_result",
          "data": {
            "text/plain": [
              "{'nationality': 'Spanish',\n",
              " 'probability': 0.5845994353294373,\n",
              " 'surname': 'Mendoza'}"
            ]
          },
          "metadata": {},
          "execution_count": 137
        }
      ]
    },
    {
      "cell_type": "code",
      "source": [
        "predict_nationality('Santaella', classifier, vectorizer)"
      ],
      "metadata": {
        "colab": {
          "base_uri": "https://localhost:8080/"
        },
        "id": "Gc78xnu-624u",
        "outputId": "dae7fad6-c8e4-4842-f6b2-f583d6aa49bd"
      },
      "execution_count": null,
      "outputs": [
        {
          "output_type": "execute_result",
          "data": {
            "text/plain": [
              "{'nationality': 'Spanish',\n",
              " 'probability': 0.5647897720336914,\n",
              " 'surname': 'Santaella'}"
            ]
          },
          "metadata": {},
          "execution_count": 138
        }
      ]
    },
    {
      "cell_type": "code",
      "source": [
        "predict_nationality('Lokotar', classifier, vectorizer)"
      ],
      "metadata": {
        "colab": {
          "base_uri": "https://localhost:8080/"
        },
        "id": "Em0SVOvl66t2",
        "outputId": "617381bd-df7d-4d78-c9d5-33b310cec577"
      },
      "execution_count": null,
      "outputs": [
        {
          "output_type": "execute_result",
          "data": {
            "text/plain": [
              "{'nationality': 'Czech',\n",
              " 'probability': 0.42320385575294495,\n",
              " 'surname': 'Lokotar'}"
            ]
          },
          "metadata": {},
          "execution_count": 139
        }
      ]
    },
    {
      "cell_type": "code",
      "source": [
        "predict_nationality('Gal', classifier, vectorizer)"
      ],
      "metadata": {
        "colab": {
          "base_uri": "https://localhost:8080/"
        },
        "id": "GP5q5dzl7UFQ",
        "outputId": "69573959-0b4c-451f-b91d-6eebb1d143cd"
      },
      "execution_count": null,
      "outputs": [
        {
          "output_type": "execute_result",
          "data": {
            "text/plain": [
              "{'nationality': 'Dutch', 'probability': 0.4008128046989441, 'surname': 'Gal'}"
            ]
          },
          "metadata": {},
          "execution_count": 140
        }
      ]
    },
    {
      "cell_type": "code",
      "source": [
        "import pandas as pd\n",
        "import plotly.graph_objects as go\n",
        "\n",
        "# Filter the dataset to get the validating split\n",
        "validating_df = df[df['split'] == 'val']\n",
        "\n",
        "# Count the number of objects for each class in the validating split\n",
        "class_counts = validating_df['nationality'].value_counts()\n",
        "\n",
        "# Plot the bar chart\n",
        "fig = go.Figure(go.Bar(\n",
        "    x=class_counts.index,\n",
        "    y=class_counts.values,\n",
        "    marker_color='skyblue'\n",
        "))\n",
        "\n",
        "# Customize the layout\n",
        "fig.update_layout(\n",
        "    title='Objects Quantity by Classes in the Validating Data Set',\n",
        "    xaxis=dict(title='Class'),\n",
        "    yaxis=dict(title='Quantity')\n",
        ")\n",
        "\n",
        "# Show the plot\n",
        "fig.show()\n"
      ],
      "metadata": {
        "colab": {
          "base_uri": "https://localhost:8080/",
          "height": 542
        },
        "id": "qvkyearZlA10",
        "outputId": "ac3ea1a9-2c72-4a26-f7b6-d55de28633d0"
      },
      "execution_count": null,
      "outputs": [
        {
          "output_type": "display_data",
          "data": {
            "text/html": [
              "<html>\n",
              "<head><meta charset=\"utf-8\" /></head>\n",
              "<body>\n",
              "    <div>            <script src=\"https://cdnjs.cloudflare.com/ajax/libs/mathjax/2.7.5/MathJax.js?config=TeX-AMS-MML_SVG\"></script><script type=\"text/javascript\">if (window.MathJax && window.MathJax.Hub && window.MathJax.Hub.Config) {window.MathJax.Hub.Config({SVG: {font: \"STIX-Web\"}});}</script>                <script type=\"text/javascript\">window.PlotlyConfig = {MathJaxConfig: 'local'};</script>\n",
              "        <script charset=\"utf-8\" src=\"https://cdn.plot.ly/plotly-2.24.1.min.js\"></script>                <div id=\"9b611b13-869c-48d0-bb14-8de4ac5984d3\" class=\"plotly-graph-div\" style=\"height:525px; width:100%;\"></div>            <script type=\"text/javascript\">                                    window.PLOTLYENV=window.PLOTLYENV || {};                                    if (document.getElementById(\"9b611b13-869c-48d0-bb14-8de4ac5984d3\")) {                    Plotly.newPlot(                        \"9b611b13-869c-48d0-bb14-8de4ac5984d3\",                        [{\"marker\":{\"color\":\"skyblue\"},\"x\":[\"English\",\"Russian\",\"Arabic\",\"Japanese\",\"Italian\",\"German\",\"Czech\",\"Spanish\",\"Dutch\",\"French\",\"Chinese\",\"Irish\",\"Greek\",\"Polish\",\"Korean\",\"Scottish\",\"Portuguese\",\"Vietnamese\"],\"y\":[445,355,240,116,90,86,62,38,35,34,33,27,23,18,11,11,8,8],\"type\":\"bar\"}],                        {\"template\":{\"data\":{\"histogram2dcontour\":[{\"type\":\"histogram2dcontour\",\"colorbar\":{\"outlinewidth\":0,\"ticks\":\"\"},\"colorscale\":[[0.0,\"#0d0887\"],[0.1111111111111111,\"#46039f\"],[0.2222222222222222,\"#7201a8\"],[0.3333333333333333,\"#9c179e\"],[0.4444444444444444,\"#bd3786\"],[0.5555555555555556,\"#d8576b\"],[0.6666666666666666,\"#ed7953\"],[0.7777777777777778,\"#fb9f3a\"],[0.8888888888888888,\"#fdca26\"],[1.0,\"#f0f921\"]]}],\"choropleth\":[{\"type\":\"choropleth\",\"colorbar\":{\"outlinewidth\":0,\"ticks\":\"\"}}],\"histogram2d\":[{\"type\":\"histogram2d\",\"colorbar\":{\"outlinewidth\":0,\"ticks\":\"\"},\"colorscale\":[[0.0,\"#0d0887\"],[0.1111111111111111,\"#46039f\"],[0.2222222222222222,\"#7201a8\"],[0.3333333333333333,\"#9c179e\"],[0.4444444444444444,\"#bd3786\"],[0.5555555555555556,\"#d8576b\"],[0.6666666666666666,\"#ed7953\"],[0.7777777777777778,\"#fb9f3a\"],[0.8888888888888888,\"#fdca26\"],[1.0,\"#f0f921\"]]}],\"heatmap\":[{\"type\":\"heatmap\",\"colorbar\":{\"outlinewidth\":0,\"ticks\":\"\"},\"colorscale\":[[0.0,\"#0d0887\"],[0.1111111111111111,\"#46039f\"],[0.2222222222222222,\"#7201a8\"],[0.3333333333333333,\"#9c179e\"],[0.4444444444444444,\"#bd3786\"],[0.5555555555555556,\"#d8576b\"],[0.6666666666666666,\"#ed7953\"],[0.7777777777777778,\"#fb9f3a\"],[0.8888888888888888,\"#fdca26\"],[1.0,\"#f0f921\"]]}],\"heatmapgl\":[{\"type\":\"heatmapgl\",\"colorbar\":{\"outlinewidth\":0,\"ticks\":\"\"},\"colorscale\":[[0.0,\"#0d0887\"],[0.1111111111111111,\"#46039f\"],[0.2222222222222222,\"#7201a8\"],[0.3333333333333333,\"#9c179e\"],[0.4444444444444444,\"#bd3786\"],[0.5555555555555556,\"#d8576b\"],[0.6666666666666666,\"#ed7953\"],[0.7777777777777778,\"#fb9f3a\"],[0.8888888888888888,\"#fdca26\"],[1.0,\"#f0f921\"]]}],\"contourcarpet\":[{\"type\":\"contourcarpet\",\"colorbar\":{\"outlinewidth\":0,\"ticks\":\"\"}}],\"contour\":[{\"type\":\"contour\",\"colorbar\":{\"outlinewidth\":0,\"ticks\":\"\"},\"colorscale\":[[0.0,\"#0d0887\"],[0.1111111111111111,\"#46039f\"],[0.2222222222222222,\"#7201a8\"],[0.3333333333333333,\"#9c179e\"],[0.4444444444444444,\"#bd3786\"],[0.5555555555555556,\"#d8576b\"],[0.6666666666666666,\"#ed7953\"],[0.7777777777777778,\"#fb9f3a\"],[0.8888888888888888,\"#fdca26\"],[1.0,\"#f0f921\"]]}],\"surface\":[{\"type\":\"surface\",\"colorbar\":{\"outlinewidth\":0,\"ticks\":\"\"},\"colorscale\":[[0.0,\"#0d0887\"],[0.1111111111111111,\"#46039f\"],[0.2222222222222222,\"#7201a8\"],[0.3333333333333333,\"#9c179e\"],[0.4444444444444444,\"#bd3786\"],[0.5555555555555556,\"#d8576b\"],[0.6666666666666666,\"#ed7953\"],[0.7777777777777778,\"#fb9f3a\"],[0.8888888888888888,\"#fdca26\"],[1.0,\"#f0f921\"]]}],\"mesh3d\":[{\"type\":\"mesh3d\",\"colorbar\":{\"outlinewidth\":0,\"ticks\":\"\"}}],\"scatter\":[{\"fillpattern\":{\"fillmode\":\"overlay\",\"size\":10,\"solidity\":0.2},\"type\":\"scatter\"}],\"parcoords\":[{\"type\":\"parcoords\",\"line\":{\"colorbar\":{\"outlinewidth\":0,\"ticks\":\"\"}}}],\"scatterpolargl\":[{\"type\":\"scatterpolargl\",\"marker\":{\"colorbar\":{\"outlinewidth\":0,\"ticks\":\"\"}}}],\"bar\":[{\"error_x\":{\"color\":\"#2a3f5f\"},\"error_y\":{\"color\":\"#2a3f5f\"},\"marker\":{\"line\":{\"color\":\"#E5ECF6\",\"width\":0.5},\"pattern\":{\"fillmode\":\"overlay\",\"size\":10,\"solidity\":0.2}},\"type\":\"bar\"}],\"scattergeo\":[{\"type\":\"scattergeo\",\"marker\":{\"colorbar\":{\"outlinewidth\":0,\"ticks\":\"\"}}}],\"scatterpolar\":[{\"type\":\"scatterpolar\",\"marker\":{\"colorbar\":{\"outlinewidth\":0,\"ticks\":\"\"}}}],\"histogram\":[{\"marker\":{\"pattern\":{\"fillmode\":\"overlay\",\"size\":10,\"solidity\":0.2}},\"type\":\"histogram\"}],\"scattergl\":[{\"type\":\"scattergl\",\"marker\":{\"colorbar\":{\"outlinewidth\":0,\"ticks\":\"\"}}}],\"scatter3d\":[{\"type\":\"scatter3d\",\"line\":{\"colorbar\":{\"outlinewidth\":0,\"ticks\":\"\"}},\"marker\":{\"colorbar\":{\"outlinewidth\":0,\"ticks\":\"\"}}}],\"scattermapbox\":[{\"type\":\"scattermapbox\",\"marker\":{\"colorbar\":{\"outlinewidth\":0,\"ticks\":\"\"}}}],\"scatterternary\":[{\"type\":\"scatterternary\",\"marker\":{\"colorbar\":{\"outlinewidth\":0,\"ticks\":\"\"}}}],\"scattercarpet\":[{\"type\":\"scattercarpet\",\"marker\":{\"colorbar\":{\"outlinewidth\":0,\"ticks\":\"\"}}}],\"carpet\":[{\"aaxis\":{\"endlinecolor\":\"#2a3f5f\",\"gridcolor\":\"white\",\"linecolor\":\"white\",\"minorgridcolor\":\"white\",\"startlinecolor\":\"#2a3f5f\"},\"baxis\":{\"endlinecolor\":\"#2a3f5f\",\"gridcolor\":\"white\",\"linecolor\":\"white\",\"minorgridcolor\":\"white\",\"startlinecolor\":\"#2a3f5f\"},\"type\":\"carpet\"}],\"table\":[{\"cells\":{\"fill\":{\"color\":\"#EBF0F8\"},\"line\":{\"color\":\"white\"}},\"header\":{\"fill\":{\"color\":\"#C8D4E3\"},\"line\":{\"color\":\"white\"}},\"type\":\"table\"}],\"barpolar\":[{\"marker\":{\"line\":{\"color\":\"#E5ECF6\",\"width\":0.5},\"pattern\":{\"fillmode\":\"overlay\",\"size\":10,\"solidity\":0.2}},\"type\":\"barpolar\"}],\"pie\":[{\"automargin\":true,\"type\":\"pie\"}]},\"layout\":{\"autotypenumbers\":\"strict\",\"colorway\":[\"#636efa\",\"#EF553B\",\"#00cc96\",\"#ab63fa\",\"#FFA15A\",\"#19d3f3\",\"#FF6692\",\"#B6E880\",\"#FF97FF\",\"#FECB52\"],\"font\":{\"color\":\"#2a3f5f\"},\"hovermode\":\"closest\",\"hoverlabel\":{\"align\":\"left\"},\"paper_bgcolor\":\"white\",\"plot_bgcolor\":\"#E5ECF6\",\"polar\":{\"bgcolor\":\"#E5ECF6\",\"angularaxis\":{\"gridcolor\":\"white\",\"linecolor\":\"white\",\"ticks\":\"\"},\"radialaxis\":{\"gridcolor\":\"white\",\"linecolor\":\"white\",\"ticks\":\"\"}},\"ternary\":{\"bgcolor\":\"#E5ECF6\",\"aaxis\":{\"gridcolor\":\"white\",\"linecolor\":\"white\",\"ticks\":\"\"},\"baxis\":{\"gridcolor\":\"white\",\"linecolor\":\"white\",\"ticks\":\"\"},\"caxis\":{\"gridcolor\":\"white\",\"linecolor\":\"white\",\"ticks\":\"\"}},\"coloraxis\":{\"colorbar\":{\"outlinewidth\":0,\"ticks\":\"\"}},\"colorscale\":{\"sequential\":[[0.0,\"#0d0887\"],[0.1111111111111111,\"#46039f\"],[0.2222222222222222,\"#7201a8\"],[0.3333333333333333,\"#9c179e\"],[0.4444444444444444,\"#bd3786\"],[0.5555555555555556,\"#d8576b\"],[0.6666666666666666,\"#ed7953\"],[0.7777777777777778,\"#fb9f3a\"],[0.8888888888888888,\"#fdca26\"],[1.0,\"#f0f921\"]],\"sequentialminus\":[[0.0,\"#0d0887\"],[0.1111111111111111,\"#46039f\"],[0.2222222222222222,\"#7201a8\"],[0.3333333333333333,\"#9c179e\"],[0.4444444444444444,\"#bd3786\"],[0.5555555555555556,\"#d8576b\"],[0.6666666666666666,\"#ed7953\"],[0.7777777777777778,\"#fb9f3a\"],[0.8888888888888888,\"#fdca26\"],[1.0,\"#f0f921\"]],\"diverging\":[[0,\"#8e0152\"],[0.1,\"#c51b7d\"],[0.2,\"#de77ae\"],[0.3,\"#f1b6da\"],[0.4,\"#fde0ef\"],[0.5,\"#f7f7f7\"],[0.6,\"#e6f5d0\"],[0.7,\"#b8e186\"],[0.8,\"#7fbc41\"],[0.9,\"#4d9221\"],[1,\"#276419\"]]},\"xaxis\":{\"gridcolor\":\"white\",\"linecolor\":\"white\",\"ticks\":\"\",\"title\":{\"standoff\":15},\"zerolinecolor\":\"white\",\"automargin\":true,\"zerolinewidth\":2},\"yaxis\":{\"gridcolor\":\"white\",\"linecolor\":\"white\",\"ticks\":\"\",\"title\":{\"standoff\":15},\"zerolinecolor\":\"white\",\"automargin\":true,\"zerolinewidth\":2},\"scene\":{\"xaxis\":{\"backgroundcolor\":\"#E5ECF6\",\"gridcolor\":\"white\",\"linecolor\":\"white\",\"showbackground\":true,\"ticks\":\"\",\"zerolinecolor\":\"white\",\"gridwidth\":2},\"yaxis\":{\"backgroundcolor\":\"#E5ECF6\",\"gridcolor\":\"white\",\"linecolor\":\"white\",\"showbackground\":true,\"ticks\":\"\",\"zerolinecolor\":\"white\",\"gridwidth\":2},\"zaxis\":{\"backgroundcolor\":\"#E5ECF6\",\"gridcolor\":\"white\",\"linecolor\":\"white\",\"showbackground\":true,\"ticks\":\"\",\"zerolinecolor\":\"white\",\"gridwidth\":2}},\"shapedefaults\":{\"line\":{\"color\":\"#2a3f5f\"}},\"annotationdefaults\":{\"arrowcolor\":\"#2a3f5f\",\"arrowhead\":0,\"arrowwidth\":1},\"geo\":{\"bgcolor\":\"white\",\"landcolor\":\"#E5ECF6\",\"subunitcolor\":\"white\",\"showland\":true,\"showlakes\":true,\"lakecolor\":\"white\"},\"title\":{\"x\":0.05},\"mapbox\":{\"style\":\"light\"}}},\"title\":{\"text\":\"Objects Quantity by Classes in the Validating Data Set\"},\"xaxis\":{\"title\":{\"text\":\"Class\"}},\"yaxis\":{\"title\":{\"text\":\"Quantity\"}}},                        {\"responsive\": true}                    ).then(function(){\n",
              "                            \n",
              "var gd = document.getElementById('9b611b13-869c-48d0-bb14-8de4ac5984d3');\n",
              "var x = new MutationObserver(function (mutations, observer) {{\n",
              "        var display = window.getComputedStyle(gd).display;\n",
              "        if (!display || display === 'none') {{\n",
              "            console.log([gd, 'removed!']);\n",
              "            Plotly.purge(gd);\n",
              "            observer.disconnect();\n",
              "        }}\n",
              "}});\n",
              "\n",
              "// Listen for the removal of the full notebook cells\n",
              "var notebookContainer = gd.closest('#notebook-container');\n",
              "if (notebookContainer) {{\n",
              "    x.observe(notebookContainer, {childList: true});\n",
              "}}\n",
              "\n",
              "// Listen for the clearing of the current output cell\n",
              "var outputEl = gd.closest('.output');\n",
              "if (outputEl) {{\n",
              "    x.observe(outputEl, {childList: true});\n",
              "}}\n",
              "\n",
              "                        })                };                            </script>        </div>\n",
              "</body>\n",
              "</html>"
            ]
          },
          "metadata": {}
        }
      ]
    },
    {
      "cell_type": "code",
      "source": [
        "from sklearn.metrics import confusion_matrix\n",
        "import seaborn as sns\n",
        "import matplotlib.pyplot as plt\n",
        "\n",
        "# Установка модели в режим предсказания\n",
        "classifier.eval()\n",
        "\n",
        "# Создание пустого списка для хранения предсказанных и фактических меток\n",
        "all_predictions = []\n",
        "all_targets = []\n",
        "\n",
        "# Создание генератора батчей для тестового набора данных\n",
        "dataset.set_split('val')\n",
        "batch_generator = generate_batches(dataset,\n",
        "                                   batch_size=args.batch_size,\n",
        "                                   device=args.device,\n",
        "                                   shuffle=False)\n",
        "\n",
        "# Проход по всем батчам тестового набора данных и сбор предсказаний и фактических меток\n",
        "for batch_index, batch_dict in enumerate(batch_generator):\n",
        "    # Получение предсказаний модели\n",
        "    y_pred = classifier(batch_dict['x_data'], batch_dict['x_length'], apply_softmax=True)\n",
        "    _, predicted_indices = y_pred.max(dim=1)\n",
        "    all_predictions.extend(predicted_indices.cpu().numpy())\n",
        "    all_targets.extend(batch_dict['y_target'].cpu().numpy())\n",
        "\n",
        "# Построение матрицы ошибок\n",
        "conf_matrix = confusion_matrix(all_targets, all_predictions)\n",
        "\n",
        "# Визуализация матрицы ошибок с помощью seaborn\n",
        "plt.figure(figsize=(10, 8))\n",
        "sns.heatmap(conf_matrix, annot=True, fmt='d', cmap='Blues', xticklabels=vectorizer.nationality_vocab._idx_to_token.values(),\n",
        "            yticklabels=vectorizer.nationality_vocab._idx_to_token.values())\n",
        "plt.xlabel('Predicted Label')\n",
        "plt.ylabel('True Label')\n",
        "plt.title('Confusion Matrix')\n",
        "plt.show()\n"
      ],
      "metadata": {
        "colab": {
          "base_uri": "https://localhost:8080/",
          "height": 786
        },
        "id": "hNIAp6q-VCXB",
        "outputId": "19daa8c5-ba37-4fe6-f06c-9ca1bca13615"
      },
      "execution_count": null,
      "outputs": [
        {
          "output_type": "display_data",
          "data": {
            "text/plain": [
              "<Figure size 1000x800 with 2 Axes>"
            ],
            "image/png": "[encoded data removed]"
          },
          "metadata": {}
        }
      ]
    },
    {
      "cell_type": "code",
      "source": [
        "from sklearn.metrics import accuracy_score, precision_score, recall_score, f1_score\n",
        "\n",
        "# Рассчитываем точность модели\n",
        "accuracy = accuracy_score(all_targets, all_predictions)\n",
        "\n",
        "# Рассчитываем precision, recall и F1-score для каждого класса\n",
        "precision = precision_score(all_targets, all_predictions, average=None)\n",
        "recall = recall_score(all_targets, all_predictions, average=None)\n",
        "f1 = f1_score(all_targets, all_predictions, average=None)\n",
        "\n",
        "# Выводим результаты\n",
        "print(\"Accuracy: {:.2f}%\".format(accuracy * 100))"
      ],
      "metadata": {
        "colab": {
          "base_uri": "https://localhost:8080/"
        },
        "id": "e_Pe5m4jYHMs",
        "outputId": "b3555f91-1ebc-4d5c-851a-91754f74d48c"
      },
      "execution_count": null,
      "outputs": [
        {
          "output_type": "stream",
          "name": "stdout",
          "text": [
            "Accuracy: 58.06%\n"
          ]
        },
        {
          "output_type": "stream",
          "name": "stderr",
          "text": [
            "/usr/local/lib/python3.10/dist-packages/sklearn/metrics/_classification.py:1344: UndefinedMetricWarning:\n",
            "\n",
            "Recall is ill-defined and being set to 0.0 in labels with no true samples. Use `zero_division` parameter to control this behavior.\n",
            "\n"
          ]
        }
      ]
    },
    {
      "cell_type": "code",
      "source": [
        "import pandas as pd\n",
        "\n",
        "# Создаем DataFrame для хранения результатов\n",
        "results_df = pd.DataFrame({\n",
        "    'Class': range(len(class_names)),\n",
        "    'Nationality': class_names,\n",
        "    'Precision': precision,\n",
        "    'Recall': recall,\n",
        "    'F1-score': f1\n",
        "})\n"
      ],
      "metadata": {
        "id": "2Ql1TpIDc3Qx"
      },
      "execution_count": null,
      "outputs": []
    },
    {
      "cell_type": "code",
      "source": [
        "## Создаем копию DataFrame для стилизации\n",
        "styled_results_df = results_df.copy()\n",
        "# Применяем стиль для подсветки значений F1-score > 0.7 и < 0.4\n",
        "styled_results_df = styled_results_df.style.applymap(lambda x: 'background-color: lightgreen' if x > 0.7 else ('background-color: red' if x < 0.3 else ''), subset=['F1-score'])\n",
        "\n",
        "# Выводим стилизованную таблицу\n",
        "styled_results_df\n"
      ],
      "metadata": {
        "colab": {
          "base_uri": "https://localhost:8080/",
          "height": 613
        },
        "id": "fq0598k2kYEj",
        "outputId": "6502ecd3-6e31-4bdf-fa88-e69358f269da"
      },
      "execution_count": null,
      "outputs": [
        {
          "output_type": "execute_result",
          "data": {
            "text/plain": [
              "<pandas.io.formats.style.Styler at 0x798d8cbc22f0>"
            ],
            "text/html": [
              "<style type=\"text/css\">\n",
              "#T_bd301_row0_col4, #T_bd301_row10_col4, #T_bd301_row14_col4 {\n",
              "  background-color: lightgreen;\n",
              "}\n",
              "#T_bd301_row5_col4, #T_bd301_row8_col4, #T_bd301_row11_col4, #T_bd301_row13_col4, #T_bd301_row15_col4, #T_bd301_row16_col4, #T_bd301_row17_col4 {\n",
              "  background-color: red;\n",
              "}\n",
              "</style>\n",
              "<table id=\"T_bd301\" class=\"dataframe\">\n",
              "  <thead>\n",
              "    <tr>\n",
              "      <th class=\"blank level0\" >&nbsp;</th>\n",
              "      <th id=\"T_bd301_level0_col0\" class=\"col_heading level0 col0\" >Class</th>\n",
              "      <th id=\"T_bd301_level0_col1\" class=\"col_heading level0 col1\" >Nationality</th>\n",
              "      <th id=\"T_bd301_level0_col2\" class=\"col_heading level0 col2\" >Precision</th>\n",
              "      <th id=\"T_bd301_level0_col3\" class=\"col_heading level0 col3\" >Recall</th>\n",
              "      <th id=\"T_bd301_level0_col4\" class=\"col_heading level0 col4\" >F1-score</th>\n",
              "    </tr>\n",
              "  </thead>\n",
              "  <tbody>\n",
              "    <tr>\n",
              "      <th id=\"T_bd301_level0_row0\" class=\"row_heading level0 row0\" >0</th>\n",
              "      <td id=\"T_bd301_row0_col0\" class=\"data row0 col0\" >0</td>\n",
              "      <td id=\"T_bd301_row0_col1\" class=\"data row0 col1\" >Arabic</td>\n",
              "      <td id=\"T_bd301_row0_col2\" class=\"data row0 col2\" >0.901961</td>\n",
              "      <td id=\"T_bd301_row0_col3\" class=\"data row0 col3\" >0.958333</td>\n",
              "      <td id=\"T_bd301_row0_col4\" class=\"data row0 col4\" >0.929293</td>\n",
              "    </tr>\n",
              "    <tr>\n",
              "      <th id=\"T_bd301_level0_row1\" class=\"row_heading level0 row1\" >1</th>\n",
              "      <td id=\"T_bd301_row1_col0\" class=\"data row1 col0\" >1</td>\n",
              "      <td id=\"T_bd301_row1_col1\" class=\"data row1 col1\" >Chinese</td>\n",
              "      <td id=\"T_bd301_row1_col2\" class=\"data row1 col2\" >0.750000</td>\n",
              "      <td id=\"T_bd301_row1_col3\" class=\"data row1 col3\" >0.454545</td>\n",
              "      <td id=\"T_bd301_row1_col4\" class=\"data row1 col4\" >0.566038</td>\n",
              "    </tr>\n",
              "    <tr>\n",
              "      <th id=\"T_bd301_level0_row2\" class=\"row_heading level0 row2\" >2</th>\n",
              "      <td id=\"T_bd301_row2_col0\" class=\"data row2 col0\" >2</td>\n",
              "      <td id=\"T_bd301_row2_col1\" class=\"data row2 col1\" >Czech</td>\n",
              "      <td id=\"T_bd301_row2_col2\" class=\"data row2 col2\" >0.295455</td>\n",
              "      <td id=\"T_bd301_row2_col3\" class=\"data row2 col3\" >0.419355</td>\n",
              "      <td id=\"T_bd301_row2_col4\" class=\"data row2 col4\" >0.346667</td>\n",
              "    </tr>\n",
              "    <tr>\n",
              "      <th id=\"T_bd301_level0_row3\" class=\"row_heading level0 row3\" >3</th>\n",
              "      <td id=\"T_bd301_row3_col0\" class=\"data row3 col0\" >3</td>\n",
              "      <td id=\"T_bd301_row3_col1\" class=\"data row3 col1\" >Dutch</td>\n",
              "      <td id=\"T_bd301_row3_col2\" class=\"data row3 col2\" >0.243243</td>\n",
              "      <td id=\"T_bd301_row3_col3\" class=\"data row3 col3\" >0.514286</td>\n",
              "      <td id=\"T_bd301_row3_col4\" class=\"data row3 col4\" >0.330275</td>\n",
              "    </tr>\n",
              "    <tr>\n",
              "      <th id=\"T_bd301_level0_row4\" class=\"row_heading level0 row4\" >4</th>\n",
              "      <td id=\"T_bd301_row4_col0\" class=\"data row4 col0\" >4</td>\n",
              "      <td id=\"T_bd301_row4_col1\" class=\"data row4 col1\" >English</td>\n",
              "      <td id=\"T_bd301_row4_col2\" class=\"data row4 col2\" >0.830986</td>\n",
              "      <td id=\"T_bd301_row4_col3\" class=\"data row4 col3\" >0.265169</td>\n",
              "      <td id=\"T_bd301_row4_col4\" class=\"data row4 col4\" >0.402044</td>\n",
              "    </tr>\n",
              "    <tr>\n",
              "      <th id=\"T_bd301_level0_row5\" class=\"row_heading level0 row5\" >5</th>\n",
              "      <td id=\"T_bd301_row5_col0\" class=\"data row5 col0\" >5</td>\n",
              "      <td id=\"T_bd301_row5_col1\" class=\"data row5 col1\" >French</td>\n",
              "      <td id=\"T_bd301_row5_col2\" class=\"data row5 col2\" >0.179487</td>\n",
              "      <td id=\"T_bd301_row5_col3\" class=\"data row5 col3\" >0.411765</td>\n",
              "      <td id=\"T_bd301_row5_col4\" class=\"data row5 col4\" >0.250000</td>\n",
              "    </tr>\n",
              "    <tr>\n",
              "      <th id=\"T_bd301_level0_row6\" class=\"row_heading level0 row6\" >6</th>\n",
              "      <td id=\"T_bd301_row6_col0\" class=\"data row6 col0\" >6</td>\n",
              "      <td id=\"T_bd301_row6_col1\" class=\"data row6 col1\" >German</td>\n",
              "      <td id=\"T_bd301_row6_col2\" class=\"data row6 col2\" >0.358209</td>\n",
              "      <td id=\"T_bd301_row6_col3\" class=\"data row6 col3\" >0.558140</td>\n",
              "      <td id=\"T_bd301_row6_col4\" class=\"data row6 col4\" >0.436364</td>\n",
              "    </tr>\n",
              "    <tr>\n",
              "      <th id=\"T_bd301_level0_row7\" class=\"row_heading level0 row7\" >7</th>\n",
              "      <td id=\"T_bd301_row7_col0\" class=\"data row7 col0\" >7</td>\n",
              "      <td id=\"T_bd301_row7_col1\" class=\"data row7 col1\" >Greek</td>\n",
              "      <td id=\"T_bd301_row7_col2\" class=\"data row7 col2\" >0.593750</td>\n",
              "      <td id=\"T_bd301_row7_col3\" class=\"data row7 col3\" >0.826087</td>\n",
              "      <td id=\"T_bd301_row7_col4\" class=\"data row7 col4\" >0.690909</td>\n",
              "    </tr>\n",
              "    <tr>\n",
              "      <th id=\"T_bd301_level0_row8\" class=\"row_heading level0 row8\" >8</th>\n",
              "      <td id=\"T_bd301_row8_col0\" class=\"data row8 col0\" >8</td>\n",
              "      <td id=\"T_bd301_row8_col1\" class=\"data row8 col1\" >Irish</td>\n",
              "      <td id=\"T_bd301_row8_col2\" class=\"data row8 col2\" >0.109890</td>\n",
              "      <td id=\"T_bd301_row8_col3\" class=\"data row8 col3\" >0.370370</td>\n",
              "      <td id=\"T_bd301_row8_col4\" class=\"data row8 col4\" >0.169492</td>\n",
              "    </tr>\n",
              "    <tr>\n",
              "      <th id=\"T_bd301_level0_row9\" class=\"row_heading level0 row9\" >9</th>\n",
              "      <td id=\"T_bd301_row9_col0\" class=\"data row9 col0\" >9</td>\n",
              "      <td id=\"T_bd301_row9_col1\" class=\"data row9 col1\" >Italian</td>\n",
              "      <td id=\"T_bd301_row9_col2\" class=\"data row9 col2\" >0.631579</td>\n",
              "      <td id=\"T_bd301_row9_col3\" class=\"data row9 col3\" >0.666667</td>\n",
              "      <td id=\"T_bd301_row9_col4\" class=\"data row9 col4\" >0.648649</td>\n",
              "    </tr>\n",
              "    <tr>\n",
              "      <th id=\"T_bd301_level0_row10\" class=\"row_heading level0 row10\" >10</th>\n",
              "      <td id=\"T_bd301_row10_col0\" class=\"data row10 col0\" >10</td>\n",
              "      <td id=\"T_bd301_row10_col1\" class=\"data row10 col1\" >Japanese</td>\n",
              "      <td id=\"T_bd301_row10_col2\" class=\"data row10 col2\" >0.748031</td>\n",
              "      <td id=\"T_bd301_row10_col3\" class=\"data row10 col3\" >0.818966</td>\n",
              "      <td id=\"T_bd301_row10_col4\" class=\"data row10 col4\" >0.781893</td>\n",
              "    </tr>\n",
              "    <tr>\n",
              "      <th id=\"T_bd301_level0_row11\" class=\"row_heading level0 row11\" >11</th>\n",
              "      <td id=\"T_bd301_row11_col0\" class=\"data row11 col0\" >11</td>\n",
              "      <td id=\"T_bd301_row11_col1\" class=\"data row11 col1\" >Korean</td>\n",
              "      <td id=\"T_bd301_row11_col2\" class=\"data row11 col2\" >0.157895</td>\n",
              "      <td id=\"T_bd301_row11_col3\" class=\"data row11 col3\" >0.272727</td>\n",
              "      <td id=\"T_bd301_row11_col4\" class=\"data row11 col4\" >0.200000</td>\n",
              "    </tr>\n",
              "    <tr>\n",
              "      <th id=\"T_bd301_level0_row12\" class=\"row_heading level0 row12\" >12</th>\n",
              "      <td id=\"T_bd301_row12_col0\" class=\"data row12 col0\" >12</td>\n",
              "      <td id=\"T_bd301_row12_col1\" class=\"data row12 col1\" >Polish</td>\n",
              "      <td id=\"T_bd301_row12_col2\" class=\"data row12 col2\" >0.258065</td>\n",
              "      <td id=\"T_bd301_row12_col3\" class=\"data row12 col3\" >0.444444</td>\n",
              "      <td id=\"T_bd301_row12_col4\" class=\"data row12 col4\" >0.326531</td>\n",
              "    </tr>\n",
              "    <tr>\n",
              "      <th id=\"T_bd301_level0_row13\" class=\"row_heading level0 row13\" >13</th>\n",
              "      <td id=\"T_bd301_row13_col0\" class=\"data row13 col0\" >13</td>\n",
              "      <td id=\"T_bd301_row13_col1\" class=\"data row13 col1\" >Portuguese</td>\n",
              "      <td id=\"T_bd301_row13_col2\" class=\"data row13 col2\" >0.125000</td>\n",
              "      <td id=\"T_bd301_row13_col3\" class=\"data row13 col3\" >0.250000</td>\n",
              "      <td id=\"T_bd301_row13_col4\" class=\"data row13 col4\" >0.166667</td>\n",
              "    </tr>\n",
              "    <tr>\n",
              "      <th id=\"T_bd301_level0_row14\" class=\"row_heading level0 row14\" >14</th>\n",
              "      <td id=\"T_bd301_row14_col0\" class=\"data row14 col0\" >14</td>\n",
              "      <td id=\"T_bd301_row14_col1\" class=\"data row14 col1\" >Russian</td>\n",
              "      <td id=\"T_bd301_row14_col2\" class=\"data row14 col2\" >0.921986</td>\n",
              "      <td id=\"T_bd301_row14_col3\" class=\"data row14 col3\" >0.732394</td>\n",
              "      <td id=\"T_bd301_row14_col4\" class=\"data row14 col4\" >0.816327</td>\n",
              "    </tr>\n",
              "    <tr>\n",
              "      <th id=\"T_bd301_level0_row15\" class=\"row_heading level0 row15\" >15</th>\n",
              "      <td id=\"T_bd301_row15_col0\" class=\"data row15 col0\" >15</td>\n",
              "      <td id=\"T_bd301_row15_col1\" class=\"data row15 col1\" >Scottish</td>\n",
              "      <td id=\"T_bd301_row15_col2\" class=\"data row15 col2\" >0.029412</td>\n",
              "      <td id=\"T_bd301_row15_col3\" class=\"data row15 col3\" >0.181818</td>\n",
              "      <td id=\"T_bd301_row15_col4\" class=\"data row15 col4\" >0.050633</td>\n",
              "    </tr>\n",
              "    <tr>\n",
              "      <th id=\"T_bd301_level0_row16\" class=\"row_heading level0 row16\" >16</th>\n",
              "      <td id=\"T_bd301_row16_col0\" class=\"data row16 col0\" >16</td>\n",
              "      <td id=\"T_bd301_row16_col1\" class=\"data row16 col1\" >Spanish</td>\n",
              "      <td id=\"T_bd301_row16_col2\" class=\"data row16 col2\" >0.034483</td>\n",
              "      <td id=\"T_bd301_row16_col3\" class=\"data row16 col3\" >0.166667</td>\n",
              "      <td id=\"T_bd301_row16_col4\" class=\"data row16 col4\" >0.057143</td>\n",
              "    </tr>\n",
              "    <tr>\n",
              "      <th id=\"T_bd301_level0_row17\" class=\"row_heading level0 row17\" >17</th>\n",
              "      <td id=\"T_bd301_row17_col0\" class=\"data row17 col0\" >17</td>\n",
              "      <td id=\"T_bd301_row17_col1\" class=\"data row17 col1\" >Vietnamese</td>\n",
              "      <td id=\"T_bd301_row17_col2\" class=\"data row17 col2\" >0.000000</td>\n",
              "      <td id=\"T_bd301_row17_col3\" class=\"data row17 col3\" >0.000000</td>\n",
              "      <td id=\"T_bd301_row17_col4\" class=\"data row17 col4\" >0.000000</td>\n",
              "    </tr>\n",
              "  </tbody>\n",
              "</table>\n"
            ]
          },
          "metadata": {},
          "execution_count": 145
        }
      ]
    },
    {
      "cell_type": "markdown",
      "source": [
        "- Какие национальности определяются лучше всего?\n",
        "\n",
        "**Ответ**: Лучше всего предсказываются Arabic, Russian, Japanese фамилии.\n",
        "\n",
        "\n",
        "- С чем это может быть связано?\n",
        "\n",
        "**Ответ:**  в обучающем наборе есть достаточное количество примеров для Arabic, Russian и Japanese фамилий. Приведенная ниже статистика показывает, что Russian и Arabic занимают 21.63% и 14.61% тренировочной выборки.\n",
        "\n",
        "**Интерсное наблюдение об Englsih.** Этот класс является самым популярным в тренировочной выборке, 27.08%. Однако показатели F1-score достаточно посредственная - 0.402044. Связываю это с историческими изменениями и схожестью фамилий. Английские фамилии могут быть похожими на фамилии из других культур из-за процессов иммиграции и смешения культурных групп. Кроме того, исторические изменения в английских фамилиях могли привести к разнообразию происхождения и форм фамилий, что усложняет задачу их классификации.\n",
        "\n",
        "\n",
        "- Можно ли выделить группы национальностей в которых алгоритм путается больше\n",
        "всего? С чем это может быть связано?\n",
        "\n",
        "**Ответ:** Алгоритм путается больше всего в Vietnamese, Scottish, Spanish, Portuguese, Irish, Korean, French. Могут быть выделены следующие причины:\n",
        "1. **Недостаток обучающих данных**: Модель может испытывать затруднения в правильном обучении для определенных категорий из-за недостатка обучающих данных для этих конкретных национальностей. Например, показатели для слеудющих национальностей, дейстивтельно, малы относительно остальной массы (Scottish      0.006771, Vietnamese    0.005208, Portuguese    0.004948).\n",
        "2. Также нам встречалась следующая ошибка: **Recall is ill-defined** and being set to 0.0 in labels with no true samples. Это означает, в некотором классе отсутствуют истинные метки. Это может произойти, если в валидационном наборе данных отсутствуют объекты для определенного класса. Так и произошло например для Vietnamese. Согласно графику 'Objects Quantity by Classes in the Validating Data Set' 0 наблюдейний было отобрано в валидационную выборку (однако спустя несколько часов и еще одной прогонки кода они появились, что странно, тк warning остался:)).\n",
        "3. **Фонетическая схожесть**: Некоторые фамилии из разных культур могут иметь схожие фонетические характеристики, что затрудняет их различение для модели. Например, в перечисленном мною списке плохо опредялемых фамилий присутсвуют French и Spanish, а также Scottish и Irish, которые могут имет фонетичнскую схожесть."
      ],
      "metadata": {
        "id": "eZLCthhzgDp2"
      }
    },
    {
      "cell_type": "code",
      "source": [
        "\n",
        "# Группировка данных по национальности и подсчет их количества для категории train\n",
        "train_counts = df[df['split'] == 'train']['nationality'].value_counts(normalize=True)\n",
        "\n",
        "# Сортируем результаты по популярности в убывающем порядке\n",
        "train_counts_sorted = train_counts.sort_values(ascending=False)\n",
        "\n",
        "# Выводим отсортированные результаты\n",
        "print(train_counts_sorted)\n"
      ],
      "metadata": {
        "colab": {
          "base_uri": "https://localhost:8080/"
        },
        "id": "j3NsXuRlhTkU",
        "outputId": "2b5f6608-790f-490a-903e-f4ebc400d26c"
      },
      "execution_count": null,
      "outputs": [
        {
          "output_type": "stream",
          "name": "stdout",
          "text": [
            "English       0.270833\n",
            "Russian       0.216276\n",
            "Arabic        0.146094\n",
            "Japanese      0.070573\n",
            "Italian       0.054688\n",
            "German        0.052474\n",
            "Czech         0.037630\n",
            "Spanish       0.023438\n",
            "Dutch         0.021484\n",
            "French        0.020833\n",
            "Chinese       0.020052\n",
            "Irish         0.016667\n",
            "Greek         0.014193\n",
            "Polish        0.010937\n",
            "Korean        0.006901\n",
            "Scottish      0.006771\n",
            "Vietnamese    0.005208\n",
            "Portuguese    0.004948\n",
            "Name: nationality, dtype: float64\n"
          ]
        }
      ]
    },
    {
      "cell_type": "code",
      "source": [
        "import numpy as np\n",
        "\n",
        "# Получаем уникальные значения и их частоту для истинных меток\n",
        "unique_labels, label_counts = np.unique(all_targets, return_counts=True)\n",
        "\n",
        "# Создаем словарь для хранения частоты меток по классам\n",
        "label_counts_dict = dict(zip(unique_labels, label_counts))\n",
        "\n",
        "# Выводим частоту меток по классам\n",
        "for label, count in label_counts_dict.items():\n",
        "    print(f\"Class {label}: {count} samples\")\n",
        "\n",
        "# Проверяем наличие классов без истинных меток\n",
        "classes_without_samples = [label for label, count in label_counts_dict.items() if count == 0]\n",
        "if classes_without_samples:\n",
        "    print(\"Classes without true samples:\", classes_without_samples)\n",
        "else:\n",
        "    print(\"All classes have true samples.\")\n"
      ],
      "metadata": {
        "colab": {
          "base_uri": "https://localhost:8080/"
        },
        "id": "5aSMil6qncXY",
        "outputId": "8d730e8d-f8fa-43b4-8643-24ccb30a54ef"
      },
      "execution_count": null,
      "outputs": [
        {
          "output_type": "stream",
          "name": "stdout",
          "text": [
            "Class 0: 240 samples\n",
            "Class 1: 33 samples\n",
            "Class 2: 62 samples\n",
            "Class 3: 35 samples\n",
            "Class 4: 445 samples\n",
            "Class 5: 34 samples\n",
            "Class 6: 86 samples\n",
            "Class 7: 23 samples\n",
            "Class 8: 27 samples\n",
            "Class 9: 90 samples\n",
            "Class 10: 116 samples\n",
            "Class 11: 11 samples\n",
            "Class 12: 18 samples\n",
            "Class 13: 8 samples\n",
            "Class 14: 355 samples\n",
            "Class 15: 11 samples\n",
            "Class 16: 6 samples\n",
            "All classes have true samples.\n"
          ]
        }
      ]
    }
  ]
}